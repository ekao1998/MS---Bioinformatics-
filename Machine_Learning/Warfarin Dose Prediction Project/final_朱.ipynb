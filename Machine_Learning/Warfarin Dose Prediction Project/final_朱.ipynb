{
  "nbformat": 4,
  "nbformat_minor": 0,
  "metadata": {
    "colab": {
      "provenance": []
    },
    "kernelspec": {
      "name": "python3",
      "display_name": "Python 3"
    },
    "language_info": {
      "name": "python"
    }
  },
  "cells": [
    {
      "cell_type": "code",
      "execution_count": 285,
      "metadata": {
        "colab": {
          "base_uri": "https://localhost:8080/"
        },
        "id": "f9nl2ZbYNEVg",
        "outputId": "1300a080-2a8b-48de-c0fb-e20ddceba6d6"
      },
      "outputs": [
        {
          "output_type": "stream",
          "name": "stdout",
          "text": [
            "/content/drive/MyDrive/ML/Final\n"
          ]
        }
      ],
      "source": [
        "%cd /content/drive/MyDrive/ML/Final"
      ]
    },
    {
      "cell_type": "code",
      "source": [
        "!ls"
      ],
      "metadata": {
        "colab": {
          "base_uri": "https://localhost:8080/"
        },
        "id": "uvzflObBNRB_",
        "outputId": "0609b69b-0622-4d64-ec0d-f061fdf683dd"
      },
      "execution_count": 286,
      "outputs": [
        {
          "output_type": "stream",
          "name": "stdout",
          "text": [
            " final.ipynb  'Final Project Requirement.xlsx'\n"
          ]
        }
      ]
    },
    {
      "cell_type": "markdown",
      "source": [
        "#Preprocessed"
      ],
      "metadata": {
        "id": "YqcIBkHwgaIY"
      }
    },
    {
      "cell_type": "code",
      "source": [
        "import pandas as pd\n",
        "\n",
        "df = pd.read_excel('Final Project Requirement.xlsx')\n"
      ],
      "metadata": {
        "id": "vkAaLdxENUNO"
      },
      "execution_count": 287,
      "outputs": []
    },
    {
      "cell_type": "code",
      "source": [
        "df1 = df.dropna(subset=['Therapeutic Dose of Warfarin'], axis=0)\n",
        "df1.info()"
      ],
      "metadata": {
        "id": "O1ozTqtFUC4E",
        "colab": {
          "base_uri": "https://localhost:8080/"
        },
        "outputId": "486b2cac-92b8-462d-d510-a08b4ae4e5e5"
      },
      "execution_count": 288,
      "outputs": [
        {
          "output_type": "stream",
          "name": "stdout",
          "text": [
            "<class 'pandas.core.frame.DataFrame'>\n",
            "Int64Index: 5528 entries, 0 to 5699\n",
            "Data columns (total 13 columns):\n",
            " #   Column                                                             Non-Null Count  Dtype  \n",
            "---  ------                                                             --------------  -----  \n",
            " 0   Gender                                                             5524 non-null   object \n",
            " 1   Race (Reported)                                                    5022 non-null   object \n",
            " 2   Age                                                                5489 non-null   object \n",
            " 3   Height (cm)                                                        4447 non-null   float64\n",
            " 4   Weight (kg)                                                        5256 non-null   float64\n",
            " 5   Diabetes                                                           3126 non-null   float64\n",
            " 6   Simvastatin (Zocor)                                                3753 non-null   float64\n",
            " 7   Atorvastatin (Lipitor)                                             2455 non-null   float64\n",
            " 8   Target INR                                                         1259 non-null   float64\n",
            " 9   INR on Reported Therapeutic Dose of Warfarin                       4968 non-null   float64\n",
            " 10  Cyp2C9 genotypes                                                   5419 non-null   object \n",
            " 11  VKORC1 genotype: -1639 G>A (3673); chr16:31015190; rs9923231; C/T  3895 non-null   object \n",
            " 12  Therapeutic Dose of Warfarin                                       5528 non-null   float64\n",
            "dtypes: float64(8), object(5)\n",
            "memory usage: 604.6+ KB\n"
          ]
        }
      ]
    },
    {
      "cell_type": "code",
      "source": [
        "df1.isna().sum()"
      ],
      "metadata": {
        "colab": {
          "base_uri": "https://localhost:8080/"
        },
        "id": "nXhRnhenCNsa",
        "outputId": "edc49768-7ece-419e-b676-f156d3ffcbe4"
      },
      "execution_count": 289,
      "outputs": [
        {
          "output_type": "execute_result",
          "data": {
            "text/plain": [
              "Gender                                                                  4\n",
              "Race (Reported)                                                       506\n",
              "Age                                                                    39\n",
              "Height (cm)                                                          1081\n",
              "Weight (kg)                                                           272\n",
              "Diabetes                                                             2402\n",
              "Simvastatin (Zocor)                                                  1775\n",
              "Atorvastatin (Lipitor)                                               3073\n",
              "Target INR                                                           4269\n",
              "INR on Reported Therapeutic Dose of Warfarin                          560\n",
              "Cyp2C9 genotypes                                                      109\n",
              "VKORC1 genotype: -1639 G>A (3673); chr16:31015190; rs9923231; C/T    1633\n",
              "Therapeutic Dose of Warfarin                                            0\n",
              "dtype: int64"
            ]
          },
          "metadata": {},
          "execution_count": 289
        }
      ]
    },
    {
      "cell_type": "code",
      "source": [
        "#from sklearn_pandas import CategoricalImputer\n",
        "#import numpy as np \n",
        "# handling NaN values\n",
        "#imputer = CategoricalImputer()\n",
        "#data = np.array(df)\n",
        "#data1 = imputer.fit_transform(data)"
      ],
      "metadata": {
        "id": "ccmtdg5o7EgG"
      },
      "execution_count": 290,
      "outputs": []
    },
    {
      "cell_type": "code",
      "source": [
        "train_target=df1['Therapeutic Dose of Warfarin']\n",
        "train_target.loc[train_target<= 30] = 0\n",
        "train_target.loc[train_target> 30] = 1\n",
        "train_target.value_counts()"
      ],
      "metadata": {
        "colab": {
          "base_uri": "https://localhost:8080/"
        },
        "id": "6RLnU2ud_d7a",
        "outputId": "cc356b16-87d4-48a7-ccb5-590b938cb77e"
      },
      "execution_count": 291,
      "outputs": [
        {
          "output_type": "stream",
          "name": "stderr",
          "text": [
            "/usr/local/lib/python3.8/dist-packages/pandas/core/indexing.py:1732: SettingWithCopyWarning: \n",
            "A value is trying to be set on a copy of a slice from a DataFrame\n",
            "\n",
            "See the caveats in the documentation: https://pandas.pydata.org/pandas-docs/stable/user_guide/indexing.html#returning-a-view-versus-a-copy\n",
            "  self._setitem_single_block(indexer, value, name)\n"
          ]
        },
        {
          "output_type": "execute_result",
          "data": {
            "text/plain": [
              "0.0    3124\n",
              "1.0    2404\n",
              "Name: Therapeutic Dose of Warfarin, dtype: int64"
            ]
          },
          "metadata": {},
          "execution_count": 291
        }
      ]
    },
    {
      "cell_type": "code",
      "source": [
        "train_features = df1.drop(columns='Therapeutic Dose of Warfarin')"
      ],
      "metadata": {
        "id": "r4lWq1rTE9qN"
      },
      "execution_count": 292,
      "outputs": []
    },
    {
      "cell_type": "code",
      "source": [
        "from sklearn.model_selection import train_test_split\n",
        "X_train, X_test, y_train, y_test = train_test_split(train_features, train_target, test_size=0.3, random_state=42)\n",
        "X_train.shape"
      ],
      "metadata": {
        "id": "luMfupAbRPHQ",
        "colab": {
          "base_uri": "https://localhost:8080/"
        },
        "outputId": "66146b27-4984-4a63-d2b4-57b4bed80802"
      },
      "execution_count": 305,
      "outputs": [
        {
          "output_type": "execute_result",
          "data": {
            "text/plain": [
              "(3869, 12)"
            ]
          },
          "metadata": {},
          "execution_count": 305
        }
      ]
    },
    {
      "cell_type": "code",
      "source": [
        "from sklearn.compose import ColumnTransformer\n",
        "from sklearn.pipeline import Pipeline\n",
        "from sklearn.impute import SimpleImputer\n",
        "from sklearn.preprocessing import StandardScaler, OneHotEncoder\n",
        "from sklearn import preprocessing\n",
        "\n",
        "# select features types\n",
        "float64_features = list(train_features.columns[train_features.dtypes == 'float64'])#train_features.select_dtypes(include=['float64']).columns\n",
        "object_features = train_features.select_dtypes(include=['object']).columns"
      ],
      "metadata": {
        "id": "FppmMqlpIdUa"
      },
      "execution_count": 294,
      "outputs": []
    },
    {
      "cell_type": "code",
      "source": [
        "# create transformer for each feature types\n",
        "float64_transformer = Pipeline(steps=[ ('imputer', SimpleImputer(strategy='most_frequent')),('scaler', StandardScaler())])\n",
        "\n",
        "object_transformer = Pipeline(steps=[ ('imputer', SimpleImputer(strategy='most_frequent')),('onehot', OneHotEncoder(handle_unknown='ignore'))])"
      ],
      "metadata": {
        "id": "U3rA5cbRJ5w-"
      },
      "execution_count": 295,
      "outputs": []
    },
    {
      "cell_type": "code",
      "source": [
        "# create a process\n",
        "preprocessor = ColumnTransformer(\n",
        "    transformers=[\n",
        "        ('float64', float64_transformer, float64_features),\n",
        "        ('object', object_transformer, object_features)])"
      ],
      "metadata": {
        "id": "_Ng5-FhmLC3z"
      },
      "execution_count": 296,
      "outputs": []
    },
    {
      "cell_type": "markdown",
      "source": [
        "#Models"
      ],
      "metadata": {
        "id": "nqE89xIjsh3z"
      }
    },
    {
      "cell_type": "markdown",
      "source": [
        "##LogisticRegression"
      ],
      "metadata": {
        "id": "y0XBUgq3gU_e"
      }
    },
    {
      "cell_type": "code",
      "source": [
        "from sklearn.linear_model import LogisticRegression\n",
        "\n",
        "LR = Pipeline(steps=[('preprocessor', preprocessor),\n",
        "                  ('classifier', LogisticRegression(max_iter=10000))])  \n",
        "LR.fit(X_train, y_train)\n",
        "LR.predict(X_test)"
      ],
      "metadata": {
        "colab": {
          "base_uri": "https://localhost:8080/"
        },
        "id": "j3FCCZtoLT8x",
        "outputId": "b55d0fbd-f991-4a5b-e600-5351970d2833"
      },
      "execution_count": 297,
      "outputs": [
        {
          "output_type": "execute_result",
          "data": {
            "text/plain": [
              "array([1., 0., 1., ..., 0., 0., 0.])"
            ]
          },
          "metadata": {},
          "execution_count": 297
        }
      ]
    },
    {
      "cell_type": "markdown",
      "source": [
        "##Support Vector Machine"
      ],
      "metadata": {
        "id": "Iayf88LphEeN"
      }
    },
    {
      "cell_type": "code",
      "source": [
        "from sklearn.svm import SVC\n",
        "\n",
        "svm_model_polynomial = Pipeline(steps=[('preprocessor', preprocessor),\n",
        "                  ('classifier', SVC(kernel = 'poly', degree = 3, C = 10 ))])  \n",
        "svm_model_polynomial.fit(X_train, y_train)\n",
        "svm_model_polynomial.predict(X_test)"
      ],
      "metadata": {
        "colab": {
          "base_uri": "https://localhost:8080/"
        },
        "id": "n4b1wVeJhIyC",
        "outputId": "c9b89ca1-beea-40bc-e17c-29c0b7bc414d"
      },
      "execution_count": 298,
      "outputs": [
        {
          "output_type": "execute_result",
          "data": {
            "text/plain": [
              "array([1., 0., 1., ..., 0., 0., 0.])"
            ]
          },
          "metadata": {},
          "execution_count": 298
        }
      ]
    },
    {
      "cell_type": "markdown",
      "source": [
        "## Decision Tree"
      ],
      "metadata": {
        "id": "zuwNTUd7rZPD"
      }
    },
    {
      "cell_type": "code",
      "source": [
        "from sklearn.tree import DecisionTreeClassifier\n",
        "\n",
        "decision_tree_model = Pipeline(steps=[('preprocessor', preprocessor),\n",
        "                  ('classifier', DecisionTreeClassifier(max_depth = 10000))])  \n",
        "decision_tree_model.fit(X_train, y_train)\n",
        "decision_tree_model.predict(X_test)"
      ],
      "metadata": {
        "colab": {
          "base_uri": "https://localhost:8080/"
        },
        "id": "OMp_wDN8ry0r",
        "outputId": "689e5a36-a525-467e-f96f-e9fb0125bf4a"
      },
      "execution_count": 299,
      "outputs": [
        {
          "output_type": "execute_result",
          "data": {
            "text/plain": [
              "array([1., 0., 1., ..., 0., 0., 1.])"
            ]
          },
          "metadata": {},
          "execution_count": 299
        }
      ]
    },
    {
      "cell_type": "markdown",
      "source": [
        "##Neural networks "
      ],
      "metadata": {
        "id": "CH2YnKZ-tDf4"
      }
    },
    {
      "cell_type": "code",
      "source": [
        "from sklearn.neural_network import MLPClassifier\n",
        "\n",
        "neuralnetwor = Pipeline(steps=[('preprocessor', preprocessor),\n",
        "                  ('classifier', MLPClassifier(max_iter=10000, alpha=1e-5, \n",
        "                             hidden_layer_sizes=(5, 5), random_state=1))])  \n",
        "neuralnetwor.fit(X_train, y_train)\n",
        "neuralnetwor.predict(X_test)"
      ],
      "metadata": {
        "colab": {
          "base_uri": "https://localhost:8080/"
        },
        "id": "Hp5WsCArtPo8",
        "outputId": "70bb77a9-02c4-40f5-a0a7-b2d742d2677a"
      },
      "execution_count": 300,
      "outputs": [
        {
          "output_type": "execute_result",
          "data": {
            "text/plain": [
              "array([1., 0., 1., ..., 0., 0., 0.])"
            ]
          },
          "metadata": {},
          "execution_count": 300
        }
      ]
    },
    {
      "cell_type": "markdown",
      "source": [
        "#Report accuracy, precision, recall, F1-score and ROC curves (AUC-ROC)"
      ],
      "metadata": {
        "id": "-bN4NG2vvvsG"
      }
    },
    {
      "cell_type": "code",
      "source": [
        "from sklearn.metrics import accuracy_score, precision_score, recall_score, roc_auc_score, f1_score\n",
        "# Make predictions and evaluate\n",
        "logistic_pred = LR.predict(X_test)\n",
        "logistic_acc = accuracy_score(y_test, logistic_pred )\n",
        "logistic_prec = precision_score(y_test, logistic_pred )\n",
        "logistic_recall = recall_score(y_test, logistic_pred )\n",
        "logistic_roc = roc_auc_score(y_test, logistic_pred )\n",
        "logistic_f1 = f1_score(y_test, logistic_pred )\n",
        "\n",
        "svm_pred = svm_model_polynomial.predict(X_test)\n",
        "svm_acc = accuracy_score(y_test, svm_pred )\n",
        "svm_prec = precision_score(y_test, svm_pred )\n",
        "svm_recall = recall_score(y_test, svm_pred )\n",
        "svm_roc = roc_auc_score(y_test, svm_pred )\n",
        "svm_f1 = f1_score(y_test, svm_pred )\n",
        "\n",
        "decision_tree_pred = decision_tree_model.predict(X_test)\n",
        "decision_tree_acc = accuracy_score(y_test, decision_tree_pred )\n",
        "decision_tree_prec = precision_score(y_test, decision_tree_pred )\n",
        "decision_tree_recall = recall_score(y_test, decision_tree_pred )\n",
        "decision_tree_roc = roc_auc_score(y_test, decision_tree_pred )\n",
        "decision_tree_f1 = f1_score(y_test, decision_tree_pred )\n",
        "\n",
        "neuralnetwor_pred = neuralnetwor.predict(X_test)\n",
        "neuralnetwor_acc = accuracy_score(y_test, neuralnetwor_pred )\n",
        "neuralnetwor_prec = precision_score(y_test, neuralnetwor_pred )\n",
        "neuralnetwor_recall = recall_score(y_test, neuralnetwor_pred )\n",
        "neuralnetwor_roc = roc_auc_score(y_test, neuralnetwor_pred )\n",
        "neuralnetwor_f1 = f1_score(y_test, neuralnetwor_pred )"
      ],
      "metadata": {
        "id": "REI-Yb_1v3Ks"
      },
      "execution_count": 301,
      "outputs": []
    },
    {
      "cell_type": "code",
      "source": [
        "Methods = ['Logistic Regression', 'Support Vector Machine','Decision Tree','Neural Networ']\n",
        "Accuracy = [logistic_acc, svm_acc, decision_tree_acc, neuralnetwor_acc]\n",
        "Precision = [logistic_prec, svm_prec, decision_tree_prec, neuralnetwor_prec]\n",
        "Recall = [logistic_recall, svm_recall, decision_tree_recall, neuralnetwor_recall]\n",
        "Roc_Auc = [logistic_roc, svm_roc, decision_tree_roc, neuralnetwor_roc]\n",
        "F1_score = [logistic_f1, svm_f1, decision_tree_f1, neuralnetwor_f1]\n",
        "\n",
        "d = {\n",
        "    'Methods':Methods,\n",
        "    'Accuracy':Accuracy,\n",
        "    'Precision':Precision,\n",
        "    'Recall':Recall,\n",
        "    'Roc_Auc':Roc_Auc,\n",
        "    'F1_score':F1_score \n",
        "}\n",
        "\n",
        "multiple_evaluation_metrics = pd.DataFrame(d)\n",
        "multiple_evaluation_metrics"
      ],
      "metadata": {
        "colab": {
          "base_uri": "https://localhost:8080/",
          "height": 175
        },
        "id": "01pqgeGwwp-z",
        "outputId": "0fcdc151-d01b-4843-bfc3-e7b9af003f45"
      },
      "execution_count": 302,
      "outputs": [
        {
          "output_type": "execute_result",
          "data": {
            "text/plain": [
              "                  Methods  Accuracy  Precision    Recall   Roc_Auc  F1_score\n",
              "0     Logistic Regression  0.745027   0.724771  0.661088  0.735003  0.691466\n",
              "1  Support Vector Machine  0.731465   0.708046  0.644351  0.721061  0.674699\n",
              "2           Decision Tree  0.669982   0.614141  0.635983  0.665922  0.624872\n",
              "3           Neural Networ  0.753165   0.726269  0.688285  0.745416  0.706767"
            ],
            "text/html": [
              "\n",
              "  <div id=\"df-4d7f6586-5ff2-4550-9076-75f9ca467b00\">\n",
              "    <div class=\"colab-df-container\">\n",
              "      <div>\n",
              "<style scoped>\n",
              "    .dataframe tbody tr th:only-of-type {\n",
              "        vertical-align: middle;\n",
              "    }\n",
              "\n",
              "    .dataframe tbody tr th {\n",
              "        vertical-align: top;\n",
              "    }\n",
              "\n",
              "    .dataframe thead th {\n",
              "        text-align: right;\n",
              "    }\n",
              "</style>\n",
              "<table border=\"1\" class=\"dataframe\">\n",
              "  <thead>\n",
              "    <tr style=\"text-align: right;\">\n",
              "      <th></th>\n",
              "      <th>Methods</th>\n",
              "      <th>Accuracy</th>\n",
              "      <th>Precision</th>\n",
              "      <th>Recall</th>\n",
              "      <th>Roc_Auc</th>\n",
              "      <th>F1_score</th>\n",
              "    </tr>\n",
              "  </thead>\n",
              "  <tbody>\n",
              "    <tr>\n",
              "      <th>0</th>\n",
              "      <td>Logistic Regression</td>\n",
              "      <td>0.745027</td>\n",
              "      <td>0.724771</td>\n",
              "      <td>0.661088</td>\n",
              "      <td>0.735003</td>\n",
              "      <td>0.691466</td>\n",
              "    </tr>\n",
              "    <tr>\n",
              "      <th>1</th>\n",
              "      <td>Support Vector Machine</td>\n",
              "      <td>0.731465</td>\n",
              "      <td>0.708046</td>\n",
              "      <td>0.644351</td>\n",
              "      <td>0.721061</td>\n",
              "      <td>0.674699</td>\n",
              "    </tr>\n",
              "    <tr>\n",
              "      <th>2</th>\n",
              "      <td>Decision Tree</td>\n",
              "      <td>0.669982</td>\n",
              "      <td>0.614141</td>\n",
              "      <td>0.635983</td>\n",
              "      <td>0.665922</td>\n",
              "      <td>0.624872</td>\n",
              "    </tr>\n",
              "    <tr>\n",
              "      <th>3</th>\n",
              "      <td>Neural Networ</td>\n",
              "      <td>0.753165</td>\n",
              "      <td>0.726269</td>\n",
              "      <td>0.688285</td>\n",
              "      <td>0.745416</td>\n",
              "      <td>0.706767</td>\n",
              "    </tr>\n",
              "  </tbody>\n",
              "</table>\n",
              "</div>\n",
              "      <button class=\"colab-df-convert\" onclick=\"convertToInteractive('df-4d7f6586-5ff2-4550-9076-75f9ca467b00')\"\n",
              "              title=\"Convert this dataframe to an interactive table.\"\n",
              "              style=\"display:none;\">\n",
              "        \n",
              "  <svg xmlns=\"http://www.w3.org/2000/svg\" height=\"24px\"viewBox=\"0 0 24 24\"\n",
              "       width=\"24px\">\n",
              "    <path d=\"M0 0h24v24H0V0z\" fill=\"none\"/>\n",
              "    <path d=\"M18.56 5.44l.94 2.06.94-2.06 2.06-.94-2.06-.94-.94-2.06-.94 2.06-2.06.94zm-11 1L8.5 8.5l.94-2.06 2.06-.94-2.06-.94L8.5 2.5l-.94 2.06-2.06.94zm10 10l.94 2.06.94-2.06 2.06-.94-2.06-.94-.94-2.06-.94 2.06-2.06.94z\"/><path d=\"M17.41 7.96l-1.37-1.37c-.4-.4-.92-.59-1.43-.59-.52 0-1.04.2-1.43.59L10.3 9.45l-7.72 7.72c-.78.78-.78 2.05 0 2.83L4 21.41c.39.39.9.59 1.41.59.51 0 1.02-.2 1.41-.59l7.78-7.78 2.81-2.81c.8-.78.8-2.07 0-2.86zM5.41 20L4 18.59l7.72-7.72 1.47 1.35L5.41 20z\"/>\n",
              "  </svg>\n",
              "      </button>\n",
              "      \n",
              "  <style>\n",
              "    .colab-df-container {\n",
              "      display:flex;\n",
              "      flex-wrap:wrap;\n",
              "      gap: 12px;\n",
              "    }\n",
              "\n",
              "    .colab-df-convert {\n",
              "      background-color: #E8F0FE;\n",
              "      border: none;\n",
              "      border-radius: 50%;\n",
              "      cursor: pointer;\n",
              "      display: none;\n",
              "      fill: #1967D2;\n",
              "      height: 32px;\n",
              "      padding: 0 0 0 0;\n",
              "      width: 32px;\n",
              "    }\n",
              "\n",
              "    .colab-df-convert:hover {\n",
              "      background-color: #E2EBFA;\n",
              "      box-shadow: 0px 1px 2px rgba(60, 64, 67, 0.3), 0px 1px 3px 1px rgba(60, 64, 67, 0.15);\n",
              "      fill: #174EA6;\n",
              "    }\n",
              "\n",
              "    [theme=dark] .colab-df-convert {\n",
              "      background-color: #3B4455;\n",
              "      fill: #D2E3FC;\n",
              "    }\n",
              "\n",
              "    [theme=dark] .colab-df-convert:hover {\n",
              "      background-color: #434B5C;\n",
              "      box-shadow: 0px 1px 3px 1px rgba(0, 0, 0, 0.15);\n",
              "      filter: drop-shadow(0px 1px 2px rgba(0, 0, 0, 0.3));\n",
              "      fill: #FFFFFF;\n",
              "    }\n",
              "  </style>\n",
              "\n",
              "      <script>\n",
              "        const buttonEl =\n",
              "          document.querySelector('#df-4d7f6586-5ff2-4550-9076-75f9ca467b00 button.colab-df-convert');\n",
              "        buttonEl.style.display =\n",
              "          google.colab.kernel.accessAllowed ? 'block' : 'none';\n",
              "\n",
              "        async function convertToInteractive(key) {\n",
              "          const element = document.querySelector('#df-4d7f6586-5ff2-4550-9076-75f9ca467b00');\n",
              "          const dataTable =\n",
              "            await google.colab.kernel.invokeFunction('convertToInteractive',\n",
              "                                                     [key], {});\n",
              "          if (!dataTable) return;\n",
              "\n",
              "          const docLinkHtml = 'Like what you see? Visit the ' +\n",
              "            '<a target=\"_blank\" href=https://colab.research.google.com/notebooks/data_table.ipynb>data table notebook</a>'\n",
              "            + ' to learn more about interactive tables.';\n",
              "          element.innerHTML = '';\n",
              "          dataTable['output_type'] = 'display_data';\n",
              "          await google.colab.output.renderOutput(dataTable, element);\n",
              "          const docLink = document.createElement('div');\n",
              "          docLink.innerHTML = docLinkHtml;\n",
              "          element.appendChild(docLink);\n",
              "        }\n",
              "      </script>\n",
              "    </div>\n",
              "  </div>\n",
              "  "
            ]
          },
          "metadata": {},
          "execution_count": 302
        }
      ]
    }
  ]
}