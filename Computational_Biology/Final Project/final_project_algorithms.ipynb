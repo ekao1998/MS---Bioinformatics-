{
  "nbformat": 4,
  "nbformat_minor": 0,
  "metadata": {
    "colab": {
      "provenance": []
    },
    "kernelspec": {
      "name": "python3",
      "display_name": "Python 3"
    },
    "language_info": {
      "name": "python"
    },
    "accelerator": "GPU",
    "gpuClass": "standard"
  },
  "cells": [
    {
      "cell_type": "code",
      "execution_count": 1,
      "metadata": {
        "id": "TBH0kvTHLo7p"
      },
      "outputs": [],
      "source": [
        "import pandas as pd\n",
        "import copy\n",
        "import numpy as np\n",
        "import math"
      ]
    },
    {
      "cell_type": "code",
      "source": [
        "!tar -xf /content/final_project.tar.gz"
      ],
      "metadata": {
        "id": "byanub-jLsSc"
      },
      "execution_count": 2,
      "outputs": []
    },
    {
      "cell_type": "markdown",
      "source": [
        "1. Read the gene file (gene_annotation.txt) to get the list of unique genes.\n",
        "\n",
        "2. Read the read length file (readsLen.txt) to store the length value of each gene\n",
        "\n",
        "3. Read each line in the mapping file (tophat_read_mapping_on_genome.summary) to get the aligned location of each read on the chromosome. The aligned location of the read should plus the read's length to derive the aligned region (start_location to end_location) on the chromosome. Then loop over all genes in the file (gene_annotation.txt) to find the gene whose exon overlaps this aligned region. Once found, add one count to the gene id. Continue the search to the next line in file (tophat_read_mapping_on_genome.summary). \n",
        "\n",
        "Important criteria: \n",
        "\n",
        "a. A read is defined to overlap an exon if at least one read base is found to overlap the exon region (either 5' or 3'). \n",
        "\n",
        "b. If a read overlaps multiple exons of the same gene, the read should be counted exactly once for this gene. \n",
        "\n",
        "c. If a read overlaps multiple exons of different genes (this happens when two or more genes overlap in the genome),  this read should be discarded and never counted to any gene. \n"
      ],
      "metadata": {
        "id": "UkTaamtEMZ8d"
      }
    },
    {
      "cell_type": "markdown",
      "source": [
        "**Task 1.**\n",
        "\n",
        "Read the gene file (gene_annotation.txt) to get the list of unique genes."
      ],
      "metadata": {
        "id": "pnwQIlV40yMV"
      }
    },
    {
      "cell_type": "code",
      "source": [
        "# Read gene annotation file to dataframe\n",
        "genes = pd.read_csv(\"/content/final_project/gene_annotation.txt\", sep = '\\t')\n",
        "# ChromosomeID column is a mix of numbers and strings, typecast to string for easy processing.\n",
        "genes['ChromosomeID'] = genes['ChromosomeID'].astype(str)\n",
        "# Dataframe check\n",
        "genes"
      ],
      "metadata": {
        "colab": {
          "base_uri": "https://localhost:8080/",
          "height": 458
        },
        "id": "MfzvIAZcMQcY",
        "outputId": "42ec53dc-06a0-4108-e767-0c2d31a004fc"
      },
      "execution_count": 3,
      "outputs": [
        {
          "output_type": "stream",
          "name": "stderr",
          "text": [
            "/usr/local/lib/python3.8/dist-packages/IPython/core/interactiveshell.py:3326: DtypeWarning: Columns (1) have mixed types.Specify dtype option on import or set low_memory=False.\n",
            "  exec(code_obj, self.user_global_ns, self.user_ns)\n"
          ]
        },
        {
          "output_type": "execute_result",
          "data": {
            "text/plain": [
              "                GeneID ChromosomeID  Exon  Loc_Start  Loc_End\n",
              "0       Zm00001d027230            1  exon      44289    44947\n",
              "1       Zm00001d027230            1  exon      45666    45803\n",
              "2       Zm00001d027230            1  exon      45888    46133\n",
              "3       Zm00001d027230            1  exon      46229    46342\n",
              "4       Zm00001d027230            1  exon      46451    46633\n",
              "...                ...          ...   ...        ...      ...\n",
              "402554  Zm00001d000232  B73V4_ctg98  exon      67064    67355\n",
              "402555  Zm00001d000232  B73V4_ctg98  exon      67390    67515\n",
              "402556  Zm00001d000232  B73V4_ctg98  exon      67605    68060\n",
              "402557  Zm00001d000233  B73V4_ctg98  exon      96278    98668\n",
              "402558  Zm00001d000233  B73V4_ctg98  exon     101066   101470\n",
              "\n",
              "[402559 rows x 5 columns]"
            ],
            "text/html": [
              "\n",
              "  <div id=\"df-2fd20225-4106-4fc3-808d-5fdb2470833d\">\n",
              "    <div class=\"colab-df-container\">\n",
              "      <div>\n",
              "<style scoped>\n",
              "    .dataframe tbody tr th:only-of-type {\n",
              "        vertical-align: middle;\n",
              "    }\n",
              "\n",
              "    .dataframe tbody tr th {\n",
              "        vertical-align: top;\n",
              "    }\n",
              "\n",
              "    .dataframe thead th {\n",
              "        text-align: right;\n",
              "    }\n",
              "</style>\n",
              "<table border=\"1\" class=\"dataframe\">\n",
              "  <thead>\n",
              "    <tr style=\"text-align: right;\">\n",
              "      <th></th>\n",
              "      <th>GeneID</th>\n",
              "      <th>ChromosomeID</th>\n",
              "      <th>Exon</th>\n",
              "      <th>Loc_Start</th>\n",
              "      <th>Loc_End</th>\n",
              "    </tr>\n",
              "  </thead>\n",
              "  <tbody>\n",
              "    <tr>\n",
              "      <th>0</th>\n",
              "      <td>Zm00001d027230</td>\n",
              "      <td>1</td>\n",
              "      <td>exon</td>\n",
              "      <td>44289</td>\n",
              "      <td>44947</td>\n",
              "    </tr>\n",
              "    <tr>\n",
              "      <th>1</th>\n",
              "      <td>Zm00001d027230</td>\n",
              "      <td>1</td>\n",
              "      <td>exon</td>\n",
              "      <td>45666</td>\n",
              "      <td>45803</td>\n",
              "    </tr>\n",
              "    <tr>\n",
              "      <th>2</th>\n",
              "      <td>Zm00001d027230</td>\n",
              "      <td>1</td>\n",
              "      <td>exon</td>\n",
              "      <td>45888</td>\n",
              "      <td>46133</td>\n",
              "    </tr>\n",
              "    <tr>\n",
              "      <th>3</th>\n",
              "      <td>Zm00001d027230</td>\n",
              "      <td>1</td>\n",
              "      <td>exon</td>\n",
              "      <td>46229</td>\n",
              "      <td>46342</td>\n",
              "    </tr>\n",
              "    <tr>\n",
              "      <th>4</th>\n",
              "      <td>Zm00001d027230</td>\n",
              "      <td>1</td>\n",
              "      <td>exon</td>\n",
              "      <td>46451</td>\n",
              "      <td>46633</td>\n",
              "    </tr>\n",
              "    <tr>\n",
              "      <th>...</th>\n",
              "      <td>...</td>\n",
              "      <td>...</td>\n",
              "      <td>...</td>\n",
              "      <td>...</td>\n",
              "      <td>...</td>\n",
              "    </tr>\n",
              "    <tr>\n",
              "      <th>402554</th>\n",
              "      <td>Zm00001d000232</td>\n",
              "      <td>B73V4_ctg98</td>\n",
              "      <td>exon</td>\n",
              "      <td>67064</td>\n",
              "      <td>67355</td>\n",
              "    </tr>\n",
              "    <tr>\n",
              "      <th>402555</th>\n",
              "      <td>Zm00001d000232</td>\n",
              "      <td>B73V4_ctg98</td>\n",
              "      <td>exon</td>\n",
              "      <td>67390</td>\n",
              "      <td>67515</td>\n",
              "    </tr>\n",
              "    <tr>\n",
              "      <th>402556</th>\n",
              "      <td>Zm00001d000232</td>\n",
              "      <td>B73V4_ctg98</td>\n",
              "      <td>exon</td>\n",
              "      <td>67605</td>\n",
              "      <td>68060</td>\n",
              "    </tr>\n",
              "    <tr>\n",
              "      <th>402557</th>\n",
              "      <td>Zm00001d000233</td>\n",
              "      <td>B73V4_ctg98</td>\n",
              "      <td>exon</td>\n",
              "      <td>96278</td>\n",
              "      <td>98668</td>\n",
              "    </tr>\n",
              "    <tr>\n",
              "      <th>402558</th>\n",
              "      <td>Zm00001d000233</td>\n",
              "      <td>B73V4_ctg98</td>\n",
              "      <td>exon</td>\n",
              "      <td>101066</td>\n",
              "      <td>101470</td>\n",
              "    </tr>\n",
              "  </tbody>\n",
              "</table>\n",
              "<p>402559 rows × 5 columns</p>\n",
              "</div>\n",
              "      <button class=\"colab-df-convert\" onclick=\"convertToInteractive('df-2fd20225-4106-4fc3-808d-5fdb2470833d')\"\n",
              "              title=\"Convert this dataframe to an interactive table.\"\n",
              "              style=\"display:none;\">\n",
              "        \n",
              "  <svg xmlns=\"http://www.w3.org/2000/svg\" height=\"24px\"viewBox=\"0 0 24 24\"\n",
              "       width=\"24px\">\n",
              "    <path d=\"M0 0h24v24H0V0z\" fill=\"none\"/>\n",
              "    <path d=\"M18.56 5.44l.94 2.06.94-2.06 2.06-.94-2.06-.94-.94-2.06-.94 2.06-2.06.94zm-11 1L8.5 8.5l.94-2.06 2.06-.94-2.06-.94L8.5 2.5l-.94 2.06-2.06.94zm10 10l.94 2.06.94-2.06 2.06-.94-2.06-.94-.94-2.06-.94 2.06-2.06.94z\"/><path d=\"M17.41 7.96l-1.37-1.37c-.4-.4-.92-.59-1.43-.59-.52 0-1.04.2-1.43.59L10.3 9.45l-7.72 7.72c-.78.78-.78 2.05 0 2.83L4 21.41c.39.39.9.59 1.41.59.51 0 1.02-.2 1.41-.59l7.78-7.78 2.81-2.81c.8-.78.8-2.07 0-2.86zM5.41 20L4 18.59l7.72-7.72 1.47 1.35L5.41 20z\"/>\n",
              "  </svg>\n",
              "      </button>\n",
              "      \n",
              "  <style>\n",
              "    .colab-df-container {\n",
              "      display:flex;\n",
              "      flex-wrap:wrap;\n",
              "      gap: 12px;\n",
              "    }\n",
              "\n",
              "    .colab-df-convert {\n",
              "      background-color: #E8F0FE;\n",
              "      border: none;\n",
              "      border-radius: 50%;\n",
              "      cursor: pointer;\n",
              "      display: none;\n",
              "      fill: #1967D2;\n",
              "      height: 32px;\n",
              "      padding: 0 0 0 0;\n",
              "      width: 32px;\n",
              "    }\n",
              "\n",
              "    .colab-df-convert:hover {\n",
              "      background-color: #E2EBFA;\n",
              "      box-shadow: 0px 1px 2px rgba(60, 64, 67, 0.3), 0px 1px 3px 1px rgba(60, 64, 67, 0.15);\n",
              "      fill: #174EA6;\n",
              "    }\n",
              "\n",
              "    [theme=dark] .colab-df-convert {\n",
              "      background-color: #3B4455;\n",
              "      fill: #D2E3FC;\n",
              "    }\n",
              "\n",
              "    [theme=dark] .colab-df-convert:hover {\n",
              "      background-color: #434B5C;\n",
              "      box-shadow: 0px 1px 3px 1px rgba(0, 0, 0, 0.15);\n",
              "      filter: drop-shadow(0px 1px 2px rgba(0, 0, 0, 0.3));\n",
              "      fill: #FFFFFF;\n",
              "    }\n",
              "  </style>\n",
              "\n",
              "      <script>\n",
              "        const buttonEl =\n",
              "          document.querySelector('#df-2fd20225-4106-4fc3-808d-5fdb2470833d button.colab-df-convert');\n",
              "        buttonEl.style.display =\n",
              "          google.colab.kernel.accessAllowed ? 'block' : 'none';\n",
              "\n",
              "        async function convertToInteractive(key) {\n",
              "          const element = document.querySelector('#df-2fd20225-4106-4fc3-808d-5fdb2470833d');\n",
              "          const dataTable =\n",
              "            await google.colab.kernel.invokeFunction('convertToInteractive',\n",
              "                                                     [key], {});\n",
              "          if (!dataTable) return;\n",
              "\n",
              "          const docLinkHtml = 'Like what you see? Visit the ' +\n",
              "            '<a target=\"_blank\" href=https://colab.research.google.com/notebooks/data_table.ipynb>data table notebook</a>'\n",
              "            + ' to learn more about interactive tables.';\n",
              "          element.innerHTML = '';\n",
              "          dataTable['output_type'] = 'display_data';\n",
              "          await google.colab.output.renderOutput(dataTable, element);\n",
              "          const docLink = document.createElement('div');\n",
              "          docLink.innerHTML = docLinkHtml;\n",
              "          element.appendChild(docLink);\n",
              "        }\n",
              "      </script>\n",
              "    </div>\n",
              "  </div>\n",
              "  "
            ]
          },
          "metadata": {},
          "execution_count": 3
        }
      ]
    },
    {
      "cell_type": "markdown",
      "source": [
        "**Task 2.**\n",
        "\n",
        "Read the read length file (readsLen.txt) to store the length value of each gene"
      ],
      "metadata": {
        "id": "Vo84n1Pt04jt"
      }
    },
    {
      "cell_type": "code",
      "source": [
        "# Import read length file to dataframe\n",
        "lengths = pd.read_csv(\"/content/final_project/readsLen.txt\", sep = '\\t')\n",
        "# Get a list of read names from dataframe\n",
        "read_names = lengths.Read_name.values.tolist()\n",
        "# Get rid of whitespace in read name list\n",
        "read_names = [s.strip() for s in read_names]\n",
        "# Get a list of read lengths from list\n",
        "read_len = lengths.Length.values.tolist()\n",
        "# Dataframe check\n",
        "lengths"
      ],
      "metadata": {
        "colab": {
          "base_uri": "https://localhost:8080/",
          "height": 424
        },
        "id": "dbeutOUrMf90",
        "outputId": "e3585f68-f6d9-4b79-96ab-806ab655f836"
      },
      "execution_count": 4,
      "outputs": [
        {
          "output_type": "execute_result",
          "data": {
            "text/plain": [
              "                                          Read_name  Length\n",
              "0         NB501332:109:HM5KTBGX2:1:11101:8851:1140       19\n",
              "1        NB501332:109:HM5KTBGX2:1:11101:16091:1155       22\n",
              "2        NB501332:109:HM5KTBGX2:1:11101:17993:1190       19\n",
              "3        NB501332:109:HM5KTBGX2:1:11101:20861:1202       24\n",
              "4        NB501332:109:HM5KTBGX2:1:11101:24939:1307       21\n",
              "...                                             ...     ...\n",
              "282863  NB501332:109:HM5KTBGX2:4:23612:11771:20073       22\n",
              "282864  NB501332:109:HM5KTBGX2:4:23612:20607:20241       19\n",
              "282865  NB501332:109:HM5KTBGX2:4:23612:12751:20268       21\n",
              "282866  NB501332:109:HM5KTBGX2:4:23612:11531:20270       24\n",
              "282867  NB501332:109:HM5KTBGX2:4:23612:18158:20342       24\n",
              "\n",
              "[282868 rows x 2 columns]"
            ],
            "text/html": [
              "\n",
              "  <div id=\"df-926c04c1-bf46-4d11-a6eb-a2635e1ab811\">\n",
              "    <div class=\"colab-df-container\">\n",
              "      <div>\n",
              "<style scoped>\n",
              "    .dataframe tbody tr th:only-of-type {\n",
              "        vertical-align: middle;\n",
              "    }\n",
              "\n",
              "    .dataframe tbody tr th {\n",
              "        vertical-align: top;\n",
              "    }\n",
              "\n",
              "    .dataframe thead th {\n",
              "        text-align: right;\n",
              "    }\n",
              "</style>\n",
              "<table border=\"1\" class=\"dataframe\">\n",
              "  <thead>\n",
              "    <tr style=\"text-align: right;\">\n",
              "      <th></th>\n",
              "      <th>Read_name</th>\n",
              "      <th>Length</th>\n",
              "    </tr>\n",
              "  </thead>\n",
              "  <tbody>\n",
              "    <tr>\n",
              "      <th>0</th>\n",
              "      <td>NB501332:109:HM5KTBGX2:1:11101:8851:1140</td>\n",
              "      <td>19</td>\n",
              "    </tr>\n",
              "    <tr>\n",
              "      <th>1</th>\n",
              "      <td>NB501332:109:HM5KTBGX2:1:11101:16091:1155</td>\n",
              "      <td>22</td>\n",
              "    </tr>\n",
              "    <tr>\n",
              "      <th>2</th>\n",
              "      <td>NB501332:109:HM5KTBGX2:1:11101:17993:1190</td>\n",
              "      <td>19</td>\n",
              "    </tr>\n",
              "    <tr>\n",
              "      <th>3</th>\n",
              "      <td>NB501332:109:HM5KTBGX2:1:11101:20861:1202</td>\n",
              "      <td>24</td>\n",
              "    </tr>\n",
              "    <tr>\n",
              "      <th>4</th>\n",
              "      <td>NB501332:109:HM5KTBGX2:1:11101:24939:1307</td>\n",
              "      <td>21</td>\n",
              "    </tr>\n",
              "    <tr>\n",
              "      <th>...</th>\n",
              "      <td>...</td>\n",
              "      <td>...</td>\n",
              "    </tr>\n",
              "    <tr>\n",
              "      <th>282863</th>\n",
              "      <td>NB501332:109:HM5KTBGX2:4:23612:11771:20073</td>\n",
              "      <td>22</td>\n",
              "    </tr>\n",
              "    <tr>\n",
              "      <th>282864</th>\n",
              "      <td>NB501332:109:HM5KTBGX2:4:23612:20607:20241</td>\n",
              "      <td>19</td>\n",
              "    </tr>\n",
              "    <tr>\n",
              "      <th>282865</th>\n",
              "      <td>NB501332:109:HM5KTBGX2:4:23612:12751:20268</td>\n",
              "      <td>21</td>\n",
              "    </tr>\n",
              "    <tr>\n",
              "      <th>282866</th>\n",
              "      <td>NB501332:109:HM5KTBGX2:4:23612:11531:20270</td>\n",
              "      <td>24</td>\n",
              "    </tr>\n",
              "    <tr>\n",
              "      <th>282867</th>\n",
              "      <td>NB501332:109:HM5KTBGX2:4:23612:18158:20342</td>\n",
              "      <td>24</td>\n",
              "    </tr>\n",
              "  </tbody>\n",
              "</table>\n",
              "<p>282868 rows × 2 columns</p>\n",
              "</div>\n",
              "      <button class=\"colab-df-convert\" onclick=\"convertToInteractive('df-926c04c1-bf46-4d11-a6eb-a2635e1ab811')\"\n",
              "              title=\"Convert this dataframe to an interactive table.\"\n",
              "              style=\"display:none;\">\n",
              "        \n",
              "  <svg xmlns=\"http://www.w3.org/2000/svg\" height=\"24px\"viewBox=\"0 0 24 24\"\n",
              "       width=\"24px\">\n",
              "    <path d=\"M0 0h24v24H0V0z\" fill=\"none\"/>\n",
              "    <path d=\"M18.56 5.44l.94 2.06.94-2.06 2.06-.94-2.06-.94-.94-2.06-.94 2.06-2.06.94zm-11 1L8.5 8.5l.94-2.06 2.06-.94-2.06-.94L8.5 2.5l-.94 2.06-2.06.94zm10 10l.94 2.06.94-2.06 2.06-.94-2.06-.94-.94-2.06-.94 2.06-2.06.94z\"/><path d=\"M17.41 7.96l-1.37-1.37c-.4-.4-.92-.59-1.43-.59-.52 0-1.04.2-1.43.59L10.3 9.45l-7.72 7.72c-.78.78-.78 2.05 0 2.83L4 21.41c.39.39.9.59 1.41.59.51 0 1.02-.2 1.41-.59l7.78-7.78 2.81-2.81c.8-.78.8-2.07 0-2.86zM5.41 20L4 18.59l7.72-7.72 1.47 1.35L5.41 20z\"/>\n",
              "  </svg>\n",
              "      </button>\n",
              "      \n",
              "  <style>\n",
              "    .colab-df-container {\n",
              "      display:flex;\n",
              "      flex-wrap:wrap;\n",
              "      gap: 12px;\n",
              "    }\n",
              "\n",
              "    .colab-df-convert {\n",
              "      background-color: #E8F0FE;\n",
              "      border: none;\n",
              "      border-radius: 50%;\n",
              "      cursor: pointer;\n",
              "      display: none;\n",
              "      fill: #1967D2;\n",
              "      height: 32px;\n",
              "      padding: 0 0 0 0;\n",
              "      width: 32px;\n",
              "    }\n",
              "\n",
              "    .colab-df-convert:hover {\n",
              "      background-color: #E2EBFA;\n",
              "      box-shadow: 0px 1px 2px rgba(60, 64, 67, 0.3), 0px 1px 3px 1px rgba(60, 64, 67, 0.15);\n",
              "      fill: #174EA6;\n",
              "    }\n",
              "\n",
              "    [theme=dark] .colab-df-convert {\n",
              "      background-color: #3B4455;\n",
              "      fill: #D2E3FC;\n",
              "    }\n",
              "\n",
              "    [theme=dark] .colab-df-convert:hover {\n",
              "      background-color: #434B5C;\n",
              "      box-shadow: 0px 1px 3px 1px rgba(0, 0, 0, 0.15);\n",
              "      filter: drop-shadow(0px 1px 2px rgba(0, 0, 0, 0.3));\n",
              "      fill: #FFFFFF;\n",
              "    }\n",
              "  </style>\n",
              "\n",
              "      <script>\n",
              "        const buttonEl =\n",
              "          document.querySelector('#df-926c04c1-bf46-4d11-a6eb-a2635e1ab811 button.colab-df-convert');\n",
              "        buttonEl.style.display =\n",
              "          google.colab.kernel.accessAllowed ? 'block' : 'none';\n",
              "\n",
              "        async function convertToInteractive(key) {\n",
              "          const element = document.querySelector('#df-926c04c1-bf46-4d11-a6eb-a2635e1ab811');\n",
              "          const dataTable =\n",
              "            await google.colab.kernel.invokeFunction('convertToInteractive',\n",
              "                                                     [key], {});\n",
              "          if (!dataTable) return;\n",
              "\n",
              "          const docLinkHtml = 'Like what you see? Visit the ' +\n",
              "            '<a target=\"_blank\" href=https://colab.research.google.com/notebooks/data_table.ipynb>data table notebook</a>'\n",
              "            + ' to learn more about interactive tables.';\n",
              "          element.innerHTML = '';\n",
              "          dataTable['output_type'] = 'display_data';\n",
              "          await google.colab.output.renderOutput(dataTable, element);\n",
              "          const docLink = document.createElement('div');\n",
              "          docLink.innerHTML = docLinkHtml;\n",
              "          element.appendChild(docLink);\n",
              "        }\n",
              "      </script>\n",
              "    </div>\n",
              "  </div>\n",
              "  "
            ]
          },
          "metadata": {},
          "execution_count": 4
        }
      ]
    },
    {
      "cell_type": "markdown",
      "source": [
        "**Task 3.**\n",
        "Read each line in the mapping file (tophat_read_mapping_on_genome.summary) to get the aligned location of each read on the chromosome. The aligned location of the read should plus the read's length to derive the aligned region (start_location to end_location) on the chromosome. Then loop over all genes in the file (gene_annotation.txt) to find the gene whose exon overlaps this aligned region. Once found, add one count to the gene id. Continue the search to the next line in file (tophat_read_mapping_on_genome.summary)."
      ],
      "metadata": {
        "id": "Q8QuHRP809Di"
      }
    },
    {
      "cell_type": "code",
      "source": [
        "# Read mapping file into data frame\n",
        "mapping_lines = pd.read_csv(\"/content/final_project/tophat_read_mapping_on_genome.summary\", sep = '\\t')\n",
        "# Check what chromosomes we have mapping data for\n",
        "print(mapping_lines.ChromosomeID.unique().tolist())\n",
        "# Dataframe check\n",
        "mapping_lines"
      ],
      "metadata": {
        "colab": {
          "base_uri": "https://localhost:8080/",
          "height": 441
        },
        "id": "tLqwrTTXMqm2",
        "outputId": "92295ef6-8df2-4ba8-f67c-6b940970fce9"
      },
      "execution_count": 5,
      "outputs": [
        {
          "output_type": "stream",
          "name": "stdout",
          "text": [
            "['1', '10', '2', '3', '4', '5', '6', '7', '8', '9', 'Mt', 'Pt']\n"
          ]
        },
        {
          "output_type": "execute_result",
          "data": {
            "text/plain": [
              "                                         Read_Name ChromosomeID  \\\n",
              "0        NB501332:109:HM5KTBGX2:2:13101:10049:3550            1   \n",
              "1       NB501332:109:HM5KTBGX2:1:22104:15315:16290            1   \n",
              "2        NB501332:109:HM5KTBGX2:2:22207:8081:13346            1   \n",
              "3       NB501332:109:HM5KTBGX2:1:21306:12413:11166            1   \n",
              "4         NB501332:109:HM5KTBGX2:2:12208:9550:8286            1   \n",
              "...                                            ...          ...   \n",
              "101181   NB501332:109:HM5KTBGX2:2:21104:2602:19376           Pt   \n",
              "101182  NB501332:109:HM5KTBGX2:4:13408:19501:17142           Pt   \n",
              "101183   NB501332:109:HM5KTBGX2:2:23212:24588:2225           Pt   \n",
              "101184    NB501332:109:HM5KTBGX2:1:23207:1810:7168           Pt   \n",
              "101185   NB501332:109:HM5KTBGX2:1:22304:21916:9228           Pt   \n",
              "\n",
              "        Start_position  \n",
              "0                23095  \n",
              "1                43372  \n",
              "2                48293  \n",
              "3                50006  \n",
              "4                56865  \n",
              "...                ...  \n",
              "101181          138642  \n",
              "101182          138642  \n",
              "101183          138681  \n",
              "101184          140141  \n",
              "101185          140216  \n",
              "\n",
              "[101186 rows x 3 columns]"
            ],
            "text/html": [
              "\n",
              "  <div id=\"df-f4d798e4-4852-4871-bd8f-3c744b7ffaf9\">\n",
              "    <div class=\"colab-df-container\">\n",
              "      <div>\n",
              "<style scoped>\n",
              "    .dataframe tbody tr th:only-of-type {\n",
              "        vertical-align: middle;\n",
              "    }\n",
              "\n",
              "    .dataframe tbody tr th {\n",
              "        vertical-align: top;\n",
              "    }\n",
              "\n",
              "    .dataframe thead th {\n",
              "        text-align: right;\n",
              "    }\n",
              "</style>\n",
              "<table border=\"1\" class=\"dataframe\">\n",
              "  <thead>\n",
              "    <tr style=\"text-align: right;\">\n",
              "      <th></th>\n",
              "      <th>Read_Name</th>\n",
              "      <th>ChromosomeID</th>\n",
              "      <th>Start_position</th>\n",
              "    </tr>\n",
              "  </thead>\n",
              "  <tbody>\n",
              "    <tr>\n",
              "      <th>0</th>\n",
              "      <td>NB501332:109:HM5KTBGX2:2:13101:10049:3550</td>\n",
              "      <td>1</td>\n",
              "      <td>23095</td>\n",
              "    </tr>\n",
              "    <tr>\n",
              "      <th>1</th>\n",
              "      <td>NB501332:109:HM5KTBGX2:1:22104:15315:16290</td>\n",
              "      <td>1</td>\n",
              "      <td>43372</td>\n",
              "    </tr>\n",
              "    <tr>\n",
              "      <th>2</th>\n",
              "      <td>NB501332:109:HM5KTBGX2:2:22207:8081:13346</td>\n",
              "      <td>1</td>\n",
              "      <td>48293</td>\n",
              "    </tr>\n",
              "    <tr>\n",
              "      <th>3</th>\n",
              "      <td>NB501332:109:HM5KTBGX2:1:21306:12413:11166</td>\n",
              "      <td>1</td>\n",
              "      <td>50006</td>\n",
              "    </tr>\n",
              "    <tr>\n",
              "      <th>4</th>\n",
              "      <td>NB501332:109:HM5KTBGX2:2:12208:9550:8286</td>\n",
              "      <td>1</td>\n",
              "      <td>56865</td>\n",
              "    </tr>\n",
              "    <tr>\n",
              "      <th>...</th>\n",
              "      <td>...</td>\n",
              "      <td>...</td>\n",
              "      <td>...</td>\n",
              "    </tr>\n",
              "    <tr>\n",
              "      <th>101181</th>\n",
              "      <td>NB501332:109:HM5KTBGX2:2:21104:2602:19376</td>\n",
              "      <td>Pt</td>\n",
              "      <td>138642</td>\n",
              "    </tr>\n",
              "    <tr>\n",
              "      <th>101182</th>\n",
              "      <td>NB501332:109:HM5KTBGX2:4:13408:19501:17142</td>\n",
              "      <td>Pt</td>\n",
              "      <td>138642</td>\n",
              "    </tr>\n",
              "    <tr>\n",
              "      <th>101183</th>\n",
              "      <td>NB501332:109:HM5KTBGX2:2:23212:24588:2225</td>\n",
              "      <td>Pt</td>\n",
              "      <td>138681</td>\n",
              "    </tr>\n",
              "    <tr>\n",
              "      <th>101184</th>\n",
              "      <td>NB501332:109:HM5KTBGX2:1:23207:1810:7168</td>\n",
              "      <td>Pt</td>\n",
              "      <td>140141</td>\n",
              "    </tr>\n",
              "    <tr>\n",
              "      <th>101185</th>\n",
              "      <td>NB501332:109:HM5KTBGX2:1:22304:21916:9228</td>\n",
              "      <td>Pt</td>\n",
              "      <td>140216</td>\n",
              "    </tr>\n",
              "  </tbody>\n",
              "</table>\n",
              "<p>101186 rows × 3 columns</p>\n",
              "</div>\n",
              "      <button class=\"colab-df-convert\" onclick=\"convertToInteractive('df-f4d798e4-4852-4871-bd8f-3c744b7ffaf9')\"\n",
              "              title=\"Convert this dataframe to an interactive table.\"\n",
              "              style=\"display:none;\">\n",
              "        \n",
              "  <svg xmlns=\"http://www.w3.org/2000/svg\" height=\"24px\"viewBox=\"0 0 24 24\"\n",
              "       width=\"24px\">\n",
              "    <path d=\"M0 0h24v24H0V0z\" fill=\"none\"/>\n",
              "    <path d=\"M18.56 5.44l.94 2.06.94-2.06 2.06-.94-2.06-.94-.94-2.06-.94 2.06-2.06.94zm-11 1L8.5 8.5l.94-2.06 2.06-.94-2.06-.94L8.5 2.5l-.94 2.06-2.06.94zm10 10l.94 2.06.94-2.06 2.06-.94-2.06-.94-.94-2.06-.94 2.06-2.06.94z\"/><path d=\"M17.41 7.96l-1.37-1.37c-.4-.4-.92-.59-1.43-.59-.52 0-1.04.2-1.43.59L10.3 9.45l-7.72 7.72c-.78.78-.78 2.05 0 2.83L4 21.41c.39.39.9.59 1.41.59.51 0 1.02-.2 1.41-.59l7.78-7.78 2.81-2.81c.8-.78.8-2.07 0-2.86zM5.41 20L4 18.59l7.72-7.72 1.47 1.35L5.41 20z\"/>\n",
              "  </svg>\n",
              "      </button>\n",
              "      \n",
              "  <style>\n",
              "    .colab-df-container {\n",
              "      display:flex;\n",
              "      flex-wrap:wrap;\n",
              "      gap: 12px;\n",
              "    }\n",
              "\n",
              "    .colab-df-convert {\n",
              "      background-color: #E8F0FE;\n",
              "      border: none;\n",
              "      border-radius: 50%;\n",
              "      cursor: pointer;\n",
              "      display: none;\n",
              "      fill: #1967D2;\n",
              "      height: 32px;\n",
              "      padding: 0 0 0 0;\n",
              "      width: 32px;\n",
              "    }\n",
              "\n",
              "    .colab-df-convert:hover {\n",
              "      background-color: #E2EBFA;\n",
              "      box-shadow: 0px 1px 2px rgba(60, 64, 67, 0.3), 0px 1px 3px 1px rgba(60, 64, 67, 0.15);\n",
              "      fill: #174EA6;\n",
              "    }\n",
              "\n",
              "    [theme=dark] .colab-df-convert {\n",
              "      background-color: #3B4455;\n",
              "      fill: #D2E3FC;\n",
              "    }\n",
              "\n",
              "    [theme=dark] .colab-df-convert:hover {\n",
              "      background-color: #434B5C;\n",
              "      box-shadow: 0px 1px 3px 1px rgba(0, 0, 0, 0.15);\n",
              "      filter: drop-shadow(0px 1px 2px rgba(0, 0, 0, 0.3));\n",
              "      fill: #FFFFFF;\n",
              "    }\n",
              "  </style>\n",
              "\n",
              "      <script>\n",
              "        const buttonEl =\n",
              "          document.querySelector('#df-f4d798e4-4852-4871-bd8f-3c744b7ffaf9 button.colab-df-convert');\n",
              "        buttonEl.style.display =\n",
              "          google.colab.kernel.accessAllowed ? 'block' : 'none';\n",
              "\n",
              "        async function convertToInteractive(key) {\n",
              "          const element = document.querySelector('#df-f4d798e4-4852-4871-bd8f-3c744b7ffaf9');\n",
              "          const dataTable =\n",
              "            await google.colab.kernel.invokeFunction('convertToInteractive',\n",
              "                                                     [key], {});\n",
              "          if (!dataTable) return;\n",
              "\n",
              "          const docLinkHtml = 'Like what you see? Visit the ' +\n",
              "            '<a target=\"_blank\" href=https://colab.research.google.com/notebooks/data_table.ipynb>data table notebook</a>'\n",
              "            + ' to learn more about interactive tables.';\n",
              "          element.innerHTML = '';\n",
              "          dataTable['output_type'] = 'display_data';\n",
              "          await google.colab.output.renderOutput(dataTable, element);\n",
              "          const docLink = document.createElement('div');\n",
              "          docLink.innerHTML = docLinkHtml;\n",
              "          element.appendChild(docLink);\n",
              "        }\n",
              "      </script>\n",
              "    </div>\n",
              "  </div>\n",
              "  "
            ]
          },
          "metadata": {},
          "execution_count": 5
        }
      ]
    },
    {
      "cell_type": "code",
      "source": [
        "# Filter gene annotation so only chromosome from the read mapping file are considered. This reduces the size of the df to be parsed by algorithm.\n",
        "#genes = genes[genes['ChromosomeID'].isin(mapping_lines.ChromosomeID.unique().tolist())]\n",
        "# Check unique chromosomes\n",
        "print(genes.ChromosomeID.unique().tolist())\n",
        "# Check gene annotation dataframe\n",
        "genes"
      ],
      "metadata": {
        "colab": {
          "base_uri": "https://localhost:8080/",
          "height": 461
        },
        "id": "U6ekjSfAPs1Q",
        "outputId": "d25daabd-e10a-485f-cb63-c0571b6d8f62"
      },
      "execution_count": 6,
      "outputs": [
        {
          "output_type": "stream",
          "name": "stdout",
          "text": [
            "['1', '2', '3', '4', '5', '6', '7', '8', '9', '10', 'Mt', 'Pt', 'B73V4_ctg10', 'B73V4_ctg100', 'B73V4_ctg102', 'B73V4_ctg103', 'B73V4_ctg104', 'B73V4_ctg105', 'B73V4_ctg107', 'B73V4_ctg11', 'B73V4_ctg110', 'B73V4_ctg115', 'B73V4_ctg117', 'B73V4_ctg119', 'B73V4_ctg12', 'B73V4_ctg120', 'B73V4_ctg121', 'B73V4_ctg123', 'B73V4_ctg125', 'B73V4_ctg129', 'B73V4_ctg13', 'B73V4_ctg133', 'B73V4_ctg134', 'B73V4_ctg14', 'B73V4_ctg140', 'B73V4_ctg141', 'B73V4_ctg142', 'B73V4_ctg144', 'B73V4_ctg147', 'B73V4_ctg150', 'B73V4_ctg151', 'B73V4_ctg170', 'B73V4_ctg173', 'B73V4_ctg178', 'B73V4_ctg18', 'B73V4_ctg180', 'B73V4_ctg181', 'B73V4_ctg182', 'B73V4_ctg188', 'B73V4_ctg189', 'B73V4_ctg190', 'B73V4_ctg193', 'B73V4_ctg2', 'B73V4_ctg20', 'B73V4_ctg205', 'B73V4_ctg206', 'B73V4_ctg208', 'B73V4_ctg219', 'B73V4_ctg23', 'B73V4_ctg24', 'B73V4_ctg242', 'B73V4_ctg245', 'B73V4_ctg247', 'B73V4_ctg248', 'B73V4_ctg250', 'B73V4_ctg253', 'B73V4_ctg26', 'B73V4_ctg28', 'B73V4_ctg29', 'B73V4_ctg3', 'B73V4_ctg31', 'B73V4_ctg35', 'B73V4_ctg4', 'B73V4_ctg40', 'B73V4_ctg41', 'B73V4_ctg42', 'B73V4_ctg44', 'B73V4_ctg46', 'B73V4_ctg48', 'B73V4_ctg49', 'B73V4_ctg5', 'B73V4_ctg50', 'B73V4_ctg51', 'B73V4_ctg52', 'B73V4_ctg53', 'B73V4_ctg54', 'B73V4_ctg56', 'B73V4_ctg58', 'B73V4_ctg6', 'B73V4_ctg61', 'B73V4_ctg65', 'B73V4_ctg66', 'B73V4_ctg68', 'B73V4_ctg69', 'B73V4_ctg72', 'B73V4_ctg73', 'B73V4_ctg74', 'B73V4_ctg75', 'B73V4_ctg77', 'B73V4_ctg8', 'B73V4_ctg83', 'B73V4_ctg88', 'B73V4_ctg89', 'B73V4_ctg91', 'B73V4_ctg92', 'B73V4_ctg95', 'B73V4_ctg97', 'B73V4_ctg98']\n"
          ]
        },
        {
          "output_type": "execute_result",
          "data": {
            "text/plain": [
              "                GeneID ChromosomeID  Exon  Loc_Start  Loc_End\n",
              "0       Zm00001d027230            1  exon      44289    44947\n",
              "1       Zm00001d027230            1  exon      45666    45803\n",
              "2       Zm00001d027230            1  exon      45888    46133\n",
              "3       Zm00001d027230            1  exon      46229    46342\n",
              "4       Zm00001d027230            1  exon      46451    46633\n",
              "...                ...          ...   ...        ...      ...\n",
              "402554  Zm00001d000232  B73V4_ctg98  exon      67064    67355\n",
              "402555  Zm00001d000232  B73V4_ctg98  exon      67390    67515\n",
              "402556  Zm00001d000232  B73V4_ctg98  exon      67605    68060\n",
              "402557  Zm00001d000233  B73V4_ctg98  exon      96278    98668\n",
              "402558  Zm00001d000233  B73V4_ctg98  exon     101066   101470\n",
              "\n",
              "[402559 rows x 5 columns]"
            ],
            "text/html": [
              "\n",
              "  <div id=\"df-e77f70c1-7ee9-47e7-a13e-db7d23b7e4b3\">\n",
              "    <div class=\"colab-df-container\">\n",
              "      <div>\n",
              "<style scoped>\n",
              "    .dataframe tbody tr th:only-of-type {\n",
              "        vertical-align: middle;\n",
              "    }\n",
              "\n",
              "    .dataframe tbody tr th {\n",
              "        vertical-align: top;\n",
              "    }\n",
              "\n",
              "    .dataframe thead th {\n",
              "        text-align: right;\n",
              "    }\n",
              "</style>\n",
              "<table border=\"1\" class=\"dataframe\">\n",
              "  <thead>\n",
              "    <tr style=\"text-align: right;\">\n",
              "      <th></th>\n",
              "      <th>GeneID</th>\n",
              "      <th>ChromosomeID</th>\n",
              "      <th>Exon</th>\n",
              "      <th>Loc_Start</th>\n",
              "      <th>Loc_End</th>\n",
              "    </tr>\n",
              "  </thead>\n",
              "  <tbody>\n",
              "    <tr>\n",
              "      <th>0</th>\n",
              "      <td>Zm00001d027230</td>\n",
              "      <td>1</td>\n",
              "      <td>exon</td>\n",
              "      <td>44289</td>\n",
              "      <td>44947</td>\n",
              "    </tr>\n",
              "    <tr>\n",
              "      <th>1</th>\n",
              "      <td>Zm00001d027230</td>\n",
              "      <td>1</td>\n",
              "      <td>exon</td>\n",
              "      <td>45666</td>\n",
              "      <td>45803</td>\n",
              "    </tr>\n",
              "    <tr>\n",
              "      <th>2</th>\n",
              "      <td>Zm00001d027230</td>\n",
              "      <td>1</td>\n",
              "      <td>exon</td>\n",
              "      <td>45888</td>\n",
              "      <td>46133</td>\n",
              "    </tr>\n",
              "    <tr>\n",
              "      <th>3</th>\n",
              "      <td>Zm00001d027230</td>\n",
              "      <td>1</td>\n",
              "      <td>exon</td>\n",
              "      <td>46229</td>\n",
              "      <td>46342</td>\n",
              "    </tr>\n",
              "    <tr>\n",
              "      <th>4</th>\n",
              "      <td>Zm00001d027230</td>\n",
              "      <td>1</td>\n",
              "      <td>exon</td>\n",
              "      <td>46451</td>\n",
              "      <td>46633</td>\n",
              "    </tr>\n",
              "    <tr>\n",
              "      <th>...</th>\n",
              "      <td>...</td>\n",
              "      <td>...</td>\n",
              "      <td>...</td>\n",
              "      <td>...</td>\n",
              "      <td>...</td>\n",
              "    </tr>\n",
              "    <tr>\n",
              "      <th>402554</th>\n",
              "      <td>Zm00001d000232</td>\n",
              "      <td>B73V4_ctg98</td>\n",
              "      <td>exon</td>\n",
              "      <td>67064</td>\n",
              "      <td>67355</td>\n",
              "    </tr>\n",
              "    <tr>\n",
              "      <th>402555</th>\n",
              "      <td>Zm00001d000232</td>\n",
              "      <td>B73V4_ctg98</td>\n",
              "      <td>exon</td>\n",
              "      <td>67390</td>\n",
              "      <td>67515</td>\n",
              "    </tr>\n",
              "    <tr>\n",
              "      <th>402556</th>\n",
              "      <td>Zm00001d000232</td>\n",
              "      <td>B73V4_ctg98</td>\n",
              "      <td>exon</td>\n",
              "      <td>67605</td>\n",
              "      <td>68060</td>\n",
              "    </tr>\n",
              "    <tr>\n",
              "      <th>402557</th>\n",
              "      <td>Zm00001d000233</td>\n",
              "      <td>B73V4_ctg98</td>\n",
              "      <td>exon</td>\n",
              "      <td>96278</td>\n",
              "      <td>98668</td>\n",
              "    </tr>\n",
              "    <tr>\n",
              "      <th>402558</th>\n",
              "      <td>Zm00001d000233</td>\n",
              "      <td>B73V4_ctg98</td>\n",
              "      <td>exon</td>\n",
              "      <td>101066</td>\n",
              "      <td>101470</td>\n",
              "    </tr>\n",
              "  </tbody>\n",
              "</table>\n",
              "<p>402559 rows × 5 columns</p>\n",
              "</div>\n",
              "      <button class=\"colab-df-convert\" onclick=\"convertToInteractive('df-e77f70c1-7ee9-47e7-a13e-db7d23b7e4b3')\"\n",
              "              title=\"Convert this dataframe to an interactive table.\"\n",
              "              style=\"display:none;\">\n",
              "        \n",
              "  <svg xmlns=\"http://www.w3.org/2000/svg\" height=\"24px\"viewBox=\"0 0 24 24\"\n",
              "       width=\"24px\">\n",
              "    <path d=\"M0 0h24v24H0V0z\" fill=\"none\"/>\n",
              "    <path d=\"M18.56 5.44l.94 2.06.94-2.06 2.06-.94-2.06-.94-.94-2.06-.94 2.06-2.06.94zm-11 1L8.5 8.5l.94-2.06 2.06-.94-2.06-.94L8.5 2.5l-.94 2.06-2.06.94zm10 10l.94 2.06.94-2.06 2.06-.94-2.06-.94-.94-2.06-.94 2.06-2.06.94z\"/><path d=\"M17.41 7.96l-1.37-1.37c-.4-.4-.92-.59-1.43-.59-.52 0-1.04.2-1.43.59L10.3 9.45l-7.72 7.72c-.78.78-.78 2.05 0 2.83L4 21.41c.39.39.9.59 1.41.59.51 0 1.02-.2 1.41-.59l7.78-7.78 2.81-2.81c.8-.78.8-2.07 0-2.86zM5.41 20L4 18.59l7.72-7.72 1.47 1.35L5.41 20z\"/>\n",
              "  </svg>\n",
              "      </button>\n",
              "      \n",
              "  <style>\n",
              "    .colab-df-container {\n",
              "      display:flex;\n",
              "      flex-wrap:wrap;\n",
              "      gap: 12px;\n",
              "    }\n",
              "\n",
              "    .colab-df-convert {\n",
              "      background-color: #E8F0FE;\n",
              "      border: none;\n",
              "      border-radius: 50%;\n",
              "      cursor: pointer;\n",
              "      display: none;\n",
              "      fill: #1967D2;\n",
              "      height: 32px;\n",
              "      padding: 0 0 0 0;\n",
              "      width: 32px;\n",
              "    }\n",
              "\n",
              "    .colab-df-convert:hover {\n",
              "      background-color: #E2EBFA;\n",
              "      box-shadow: 0px 1px 2px rgba(60, 64, 67, 0.3), 0px 1px 3px 1px rgba(60, 64, 67, 0.15);\n",
              "      fill: #174EA6;\n",
              "    }\n",
              "\n",
              "    [theme=dark] .colab-df-convert {\n",
              "      background-color: #3B4455;\n",
              "      fill: #D2E3FC;\n",
              "    }\n",
              "\n",
              "    [theme=dark] .colab-df-convert:hover {\n",
              "      background-color: #434B5C;\n",
              "      box-shadow: 0px 1px 3px 1px rgba(0, 0, 0, 0.15);\n",
              "      filter: drop-shadow(0px 1px 2px rgba(0, 0, 0, 0.3));\n",
              "      fill: #FFFFFF;\n",
              "    }\n",
              "  </style>\n",
              "\n",
              "      <script>\n",
              "        const buttonEl =\n",
              "          document.querySelector('#df-e77f70c1-7ee9-47e7-a13e-db7d23b7e4b3 button.colab-df-convert');\n",
              "        buttonEl.style.display =\n",
              "          google.colab.kernel.accessAllowed ? 'block' : 'none';\n",
              "\n",
              "        async function convertToInteractive(key) {\n",
              "          const element = document.querySelector('#df-e77f70c1-7ee9-47e7-a13e-db7d23b7e4b3');\n",
              "          const dataTable =\n",
              "            await google.colab.kernel.invokeFunction('convertToInteractive',\n",
              "                                                     [key], {});\n",
              "          if (!dataTable) return;\n",
              "\n",
              "          const docLinkHtml = 'Like what you see? Visit the ' +\n",
              "            '<a target=\"_blank\" href=https://colab.research.google.com/notebooks/data_table.ipynb>data table notebook</a>'\n",
              "            + ' to learn more about interactive tables.';\n",
              "          element.innerHTML = '';\n",
              "          dataTable['output_type'] = 'display_data';\n",
              "          await google.colab.output.renderOutput(dataTable, element);\n",
              "          const docLink = document.createElement('div');\n",
              "          docLink.innerHTML = docLinkHtml;\n",
              "          element.appendChild(docLink);\n",
              "        }\n",
              "      </script>\n",
              "    </div>\n",
              "  </div>\n",
              "  "
            ]
          },
          "metadata": {},
          "execution_count": 6
        }
      ]
    },
    {
      "cell_type": "code",
      "source": [
        "# Modified binary search algorithm to find index of first exon with an ending location >= to the read start.\n",
        "def endSearch(arr, x, low, high):\n",
        "  # Check for binary convergence\n",
        "  if low == high:\n",
        "    # If chosen index fufills (exon end >= read start) return index\n",
        "    if x <= arr[low]:\n",
        "      return low\n",
        "    # Else return failure state.\n",
        "    return -1\n",
        "  # Not yet converged requires recursive call.\n",
        "  else:\n",
        "    # Find midpoint\n",
        "    mid = math.floor((low + high) / 2)\n",
        "    # If perfect match return index\n",
        "    if x == arr[mid]:\n",
        "      return mid\n",
        "    # If read start is greater than gene end value at midpoint, discard lesser half.\n",
        "    elif (x > arr[mid]):\n",
        "      return endSearch(arr, x, mid+1, high)\n",
        "    # If read start is less than exon end value at midpoint, discard greater half but keep midpoint.\n",
        "    else: \n",
        "      return endSearch(arr, x, low, mid)\n",
        "\n",
        "#endSearch(list(loc_end_list, gene_start, 0, 10)\n",
        "print(list(range(10)))\n",
        "print(endSearch(list(range(10)), 4, 0, 10)) "
      ],
      "metadata": {
        "id": "QfsvXLcpqspf",
        "colab": {
          "base_uri": "https://localhost:8080/"
        },
        "outputId": "b7919a26-8b26-44d5-b6b2-d221ab13cf1c"
      },
      "execution_count": 7,
      "outputs": [
        {
          "output_type": "stream",
          "name": "stdout",
          "text": [
            "[0, 1, 2, 3, 4, 5, 6, 7, 8, 9]\n",
            "4\n"
          ]
        }
      ]
    },
    {
      "cell_type": "code",
      "source": [
        "# Modified binary search algorithm to find index of first exon with an starting location <= to the read end.\n",
        "def startSearch(arr, x, low, high):\n",
        "  # Check for binary convergence\n",
        "  if low == high:\n",
        "    # If chosen index fufills (exon start =< read end) return index\n",
        "    if x >= arr[high]:\n",
        "      return low\n",
        "    # Else return failure state.\n",
        "    return -1\n",
        "  # Not yet converged requires recursive call.\n",
        "  else:\n",
        "    # Find midpoint\n",
        "    mid = math.ceil((low + high) / 2)\n",
        "    # If perfect match return index\n",
        "    if x == arr[mid]:\n",
        "      return mid\n",
        "    elif (x > arr[mid]):\n",
        "    # If read end is greater than exon start value at midpoint, discard lesser half but keep midpoint.\n",
        "      return startSearch(arr, x, mid, high)\n",
        "    # If read end is less than exon start value at midpoint, discard greater half.\n",
        "    else: \n",
        "      return startSearch(arr, x, low, mid-1)\n",
        "\n",
        "#startSearch(list(loc_start_list, gene_end, 0, 10)\n",
        "print(list(range(10)))\n",
        "print(startSearch(list(range(10)), 3, 0, 10)) "
      ],
      "metadata": {
        "id": "8XCVEJUbt36a",
        "colab": {
          "base_uri": "https://localhost:8080/"
        },
        "outputId": "9774a9bc-99dd-4fe9-f4c7-a6b67468cb54"
      },
      "execution_count": 8,
      "outputs": [
        {
          "output_type": "stream",
          "name": "stdout",
          "text": [
            "[0, 1, 2, 3, 4, 5, 6, 7, 8, 9]\n",
            "3\n"
          ]
        }
      ]
    },
    {
      "cell_type": "markdown",
      "source": [
        "O(n) efficiency gene count algorithm."
      ],
      "metadata": {
        "id": "Lb59vNfluhEn"
      }
    },
    {
      "cell_type": "code",
      "source": [
        "%%time\n",
        "# Deep copy to preserve original data\n",
        "work = copy.deepcopy(genes)\n",
        "# Converting read mapping dataframe to dictionary because iterating through pandas df is non-efficient.\n",
        "read_dict = mapping_lines.to_dict('records')\n",
        "# List of genes to be counted, each occurence of gene in this list counts as +1.\n",
        "counted_gene = []\n",
        "\n",
        "# Index based dict parsing is most efficient.\n",
        "for i in range(len(read_dict)):\n",
        "    if (i%5000 == 0) : print('Iteration', i)\n",
        "\n",
        "    # Temp data structure holds individual row\n",
        "    temp = read_dict[i]\n",
        "\n",
        "    # Pulls read name from temp.\n",
        "    read_name = temp['Read_Name']\n",
        "    # Find index of read name in read names list.\n",
        "    index = read_names.index(read_name) # O(n)\n",
        "    # Index matches read length order, pulls length\n",
        "    length = read_len[index]\n",
        "    # Pull chromosome string\n",
        "    chrom = temp['ChromosomeID']\n",
        "    # Pull read start position\n",
        "    start = temp['Start_position']\n",
        "    # Calculate read end position\n",
        "    end = start + length  \n",
        "\n",
        "    # Numpy filter gene dataframe by chromosome, gets index of all data with chromosome == chrom\n",
        "    x = np.where((work['ChromosomeID']==chrom)) # O(n)\n",
        "    # Filter np.array by index\n",
        "    new = work.loc[x]\n",
        "    # Pull exon end positions from np.array\n",
        "    array = new.iloc[:,4].values\n",
        "    # Get first index where exon end position >= read start position\n",
        "    index_start = endSearch(array, start, 0, len(array)-1) # O(logn)\n",
        "    # Pull exon start positions from np.array\n",
        "    array = new.iloc[:,3].values\n",
        "    # Get last index where exon start position <= read end\n",
        "    index_end = startSearch(array, end, 0, len(array)-1) # O(logn)\n",
        "\n",
        "    # If indices are not equal or start > end then there is no overlap\n",
        "    if index_start > index_end: continue\n",
        "    # Get uniuqe list of genes that overlap\n",
        "    gene_list = set(new.reset_index().loc[index_start:index_end].GeneID)\n",
        "    # If only 1 gene overlaps it is counter, multiple or no overlaps are not counted\n",
        "    if (len(gene_list) == 1):\n",
        "      counted_gene.append(str(gene_list))"
      ],
      "metadata": {
        "colab": {
          "base_uri": "https://localhost:8080/"
        },
        "id": "dFCE9-icpAuw",
        "outputId": "32d1eaaa-6f51-4ece-df5d-b97cb03c0c2b"
      },
      "execution_count": 9,
      "outputs": [
        {
          "output_type": "stream",
          "name": "stdout",
          "text": [
            "Iteration 0\n",
            "Iteration 5000\n",
            "Iteration 10000\n",
            "Iteration 15000\n",
            "Iteration 20000\n",
            "Iteration 25000\n",
            "Iteration 30000\n",
            "Iteration 35000\n",
            "Iteration 40000\n",
            "Iteration 45000\n",
            "Iteration 50000\n",
            "Iteration 55000\n",
            "Iteration 60000\n",
            "Iteration 65000\n",
            "Iteration 70000\n",
            "Iteration 75000\n",
            "Iteration 80000\n",
            "Iteration 85000\n",
            "Iteration 90000\n",
            "Iteration 95000\n",
            "Iteration 100000\n",
            "CPU times: user 1h 22s, sys: 19.1 s, total: 1h 41s\n",
            "Wall time: 1h 40s\n"
          ]
        }
      ]
    },
    {
      "cell_type": "markdown",
      "source": [
        "This algorithm follows the same logic as above, but uses np.where instead of our custom binary search. This checks to ensure that the binary searches run correctly."
      ],
      "metadata": {
        "id": "xKSsRTQk9w17"
      }
    },
    {
      "cell_type": "code",
      "source": [
        "%%time\n",
        "work = copy.deepcopy(genes)\n",
        "read_dict = mapping_lines.to_dict('records')\n",
        "counted_gene_alt = []\n",
        "\n",
        "for i in range(len(read_dict)):\n",
        "    if (i%5000 == 0) : print('Iteration', i)\n",
        "    temp = read_dict[i]\n",
        "\n",
        "    read_name = temp['Read_Name']\n",
        "    index = read_names.index(read_name)\n",
        "    length = read_len[index]\n",
        "    chrom = temp['ChromosomeID']\n",
        "    start = temp['Start_position']\n",
        "    end = start + length  \n",
        "\n",
        "    x = np.where((work['ChromosomeID']==chrom))\n",
        "    new = work.loc[x]\n",
        "    y = np.where((new['Loc_End']>=start) & (new['Loc_Start']<= end))\n",
        "\n",
        "    gene_list = set(new.reset_index().loc[y].GeneID)\n",
        "    if (len(gene_list) == 1):\n",
        "      counted_gene_alt.append(str(gene_list))"
      ],
      "metadata": {
        "colab": {
          "base_uri": "https://localhost:8080/"
        },
        "id": "eopoEs4Xu3ls",
        "outputId": "2ae4da8e-b9cc-4ee8-eb22-fcedcf38c9f6"
      },
      "execution_count": 10,
      "outputs": [
        {
          "output_type": "stream",
          "name": "stdout",
          "text": [
            "Iteration 0\n",
            "Iteration 5000\n",
            "Iteration 10000\n",
            "Iteration 15000\n",
            "Iteration 20000\n",
            "Iteration 25000\n",
            "Iteration 30000\n",
            "Iteration 35000\n",
            "Iteration 40000\n",
            "Iteration 45000\n",
            "Iteration 50000\n",
            "Iteration 55000\n",
            "Iteration 60000\n",
            "Iteration 65000\n",
            "Iteration 70000\n",
            "Iteration 75000\n",
            "Iteration 80000\n",
            "Iteration 85000\n",
            "Iteration 90000\n",
            "Iteration 95000\n",
            "Iteration 100000\n",
            "CPU times: user 1h 5min 45s, sys: 24.5 s, total: 1h 6min 10s\n",
            "Wall time: 1h 6min 9s\n"
          ]
        }
      ]
    },
    {
      "cell_type": "markdown",
      "source": [
        "This writes output to file so we don't have to rerun long algorithms."
      ],
      "metadata": {
        "id": "C1I8sHde994C"
      }
    },
    {
      "cell_type": "code",
      "source": [
        "with open('binary.txt', 'w+') as f:\n",
        "    for items in counted_gene:\n",
        "        f.write('%s\\n' %items)\n",
        "f.close()"
      ],
      "metadata": {
        "id": "XQ96PknOVvzs"
      },
      "execution_count": 12,
      "outputs": []
    },
    {
      "cell_type": "code",
      "source": [
        "with open('numpy.txt', 'w+') as f:\n",
        "    for items in counted_gene_alt:\n",
        "        f.write('%s\\n' %items)\n",
        "f.close()"
      ],
      "metadata": {
        "id": "qpuSJr8DVwV_"
      },
      "execution_count": 13,
      "outputs": []
    },
    {
      "cell_type": "code",
      "source": [
        "# Get list of all genes to be counted from the gene dataframe\n",
        "genes_list = genes.GeneID.tolist()\n",
        "# Get a copy of the list of all genes that aligned to a read at a ratio of 1 gene : 1 read.\n",
        "work_list = copy.deepcopy(counted_gene)\n",
        "# Each gene that aligned to a read gets counted once\n",
        "count_list = [1] * len(work_list)\n",
        "# The mast list of genes are not counted\n",
        "nocount_list = [0] * len(genes_list)\n",
        "# Append the list of counted genes with non counted genes and merge the count lists\n",
        "work_list.extend(genes_list)\n",
        "count_list.extend(nocount_list)\n",
        "# Form a dataframe of genes and counts\n",
        "d = {'Genes':work_list,'Count':count_list}\n",
        "df = pd.DataFrame(d)\n",
        "df = df.reset_index(inplace=False)\n",
        "df['Genes'] = df['Genes'].str.replace(r\"'}\", '', regex=True)\n",
        "df['Genes'] = df['Genes'].str.replace(r\"{'\", '', regex=True)\n",
        "# Group genes by name and sum counts so each gene is unique with a single count value\n",
        "df = df.groupby('Genes').sum()\n",
        "# Save data to dataframe\n",
        "df.to_csv(\"data.csv\", index=True)\n",
        "# View data\n",
        "df"
      ],
      "metadata": {
        "id": "CT3wQ7oYe6Gg",
        "colab": {
          "base_uri": "https://localhost:8080/",
          "height": 455
        },
        "outputId": "274b7c23-9472-4502-e34f-484151d94e8a"
      },
      "execution_count": 14,
      "outputs": [
        {
          "output_type": "execute_result",
          "data": {
            "text/plain": [
              "                   index  Count\n",
              "Genes                          \n",
              "GRMZM5G800096    2381428     32\n",
              "GRMZM5G800101  979945473  23952\n",
              "GRMZM5G800457     459653      0\n",
              "GRMZM5G800780    1358429     15\n",
              "GRMZM5G800980    3518532     56\n",
              "...                  ...    ...\n",
              "zma-MIR482         87617      0\n",
              "zma-MIR528a        63043      0\n",
              "zma-MIR528b       773162     12\n",
              "zma-MIR529        445981      9\n",
              "zma-MIR827        284428      0\n",
              "\n",
              "[41942 rows x 2 columns]"
            ],
            "text/html": [
              "\n",
              "  <div id=\"df-705b59a3-6138-496a-bc2c-c90c008c761c\">\n",
              "    <div class=\"colab-df-container\">\n",
              "      <div>\n",
              "<style scoped>\n",
              "    .dataframe tbody tr th:only-of-type {\n",
              "        vertical-align: middle;\n",
              "    }\n",
              "\n",
              "    .dataframe tbody tr th {\n",
              "        vertical-align: top;\n",
              "    }\n",
              "\n",
              "    .dataframe thead th {\n",
              "        text-align: right;\n",
              "    }\n",
              "</style>\n",
              "<table border=\"1\" class=\"dataframe\">\n",
              "  <thead>\n",
              "    <tr style=\"text-align: right;\">\n",
              "      <th></th>\n",
              "      <th>index</th>\n",
              "      <th>Count</th>\n",
              "    </tr>\n",
              "    <tr>\n",
              "      <th>Genes</th>\n",
              "      <th></th>\n",
              "      <th></th>\n",
              "    </tr>\n",
              "  </thead>\n",
              "  <tbody>\n",
              "    <tr>\n",
              "      <th>GRMZM5G800096</th>\n",
              "      <td>2381428</td>\n",
              "      <td>32</td>\n",
              "    </tr>\n",
              "    <tr>\n",
              "      <th>GRMZM5G800101</th>\n",
              "      <td>979945473</td>\n",
              "      <td>23952</td>\n",
              "    </tr>\n",
              "    <tr>\n",
              "      <th>GRMZM5G800457</th>\n",
              "      <td>459653</td>\n",
              "      <td>0</td>\n",
              "    </tr>\n",
              "    <tr>\n",
              "      <th>GRMZM5G800780</th>\n",
              "      <td>1358429</td>\n",
              "      <td>15</td>\n",
              "    </tr>\n",
              "    <tr>\n",
              "      <th>GRMZM5G800980</th>\n",
              "      <td>3518532</td>\n",
              "      <td>56</td>\n",
              "    </tr>\n",
              "    <tr>\n",
              "      <th>...</th>\n",
              "      <td>...</td>\n",
              "      <td>...</td>\n",
              "    </tr>\n",
              "    <tr>\n",
              "      <th>zma-MIR482</th>\n",
              "      <td>87617</td>\n",
              "      <td>0</td>\n",
              "    </tr>\n",
              "    <tr>\n",
              "      <th>zma-MIR528a</th>\n",
              "      <td>63043</td>\n",
              "      <td>0</td>\n",
              "    </tr>\n",
              "    <tr>\n",
              "      <th>zma-MIR528b</th>\n",
              "      <td>773162</td>\n",
              "      <td>12</td>\n",
              "    </tr>\n",
              "    <tr>\n",
              "      <th>zma-MIR529</th>\n",
              "      <td>445981</td>\n",
              "      <td>9</td>\n",
              "    </tr>\n",
              "    <tr>\n",
              "      <th>zma-MIR827</th>\n",
              "      <td>284428</td>\n",
              "      <td>0</td>\n",
              "    </tr>\n",
              "  </tbody>\n",
              "</table>\n",
              "<p>41942 rows × 2 columns</p>\n",
              "</div>\n",
              "      <button class=\"colab-df-convert\" onclick=\"convertToInteractive('df-705b59a3-6138-496a-bc2c-c90c008c761c')\"\n",
              "              title=\"Convert this dataframe to an interactive table.\"\n",
              "              style=\"display:none;\">\n",
              "        \n",
              "  <svg xmlns=\"http://www.w3.org/2000/svg\" height=\"24px\"viewBox=\"0 0 24 24\"\n",
              "       width=\"24px\">\n",
              "    <path d=\"M0 0h24v24H0V0z\" fill=\"none\"/>\n",
              "    <path d=\"M18.56 5.44l.94 2.06.94-2.06 2.06-.94-2.06-.94-.94-2.06-.94 2.06-2.06.94zm-11 1L8.5 8.5l.94-2.06 2.06-.94-2.06-.94L8.5 2.5l-.94 2.06-2.06.94zm10 10l.94 2.06.94-2.06 2.06-.94-2.06-.94-.94-2.06-.94 2.06-2.06.94z\"/><path d=\"M17.41 7.96l-1.37-1.37c-.4-.4-.92-.59-1.43-.59-.52 0-1.04.2-1.43.59L10.3 9.45l-7.72 7.72c-.78.78-.78 2.05 0 2.83L4 21.41c.39.39.9.59 1.41.59.51 0 1.02-.2 1.41-.59l7.78-7.78 2.81-2.81c.8-.78.8-2.07 0-2.86zM5.41 20L4 18.59l7.72-7.72 1.47 1.35L5.41 20z\"/>\n",
              "  </svg>\n",
              "      </button>\n",
              "      \n",
              "  <style>\n",
              "    .colab-df-container {\n",
              "      display:flex;\n",
              "      flex-wrap:wrap;\n",
              "      gap: 12px;\n",
              "    }\n",
              "\n",
              "    .colab-df-convert {\n",
              "      background-color: #E8F0FE;\n",
              "      border: none;\n",
              "      border-radius: 50%;\n",
              "      cursor: pointer;\n",
              "      display: none;\n",
              "      fill: #1967D2;\n",
              "      height: 32px;\n",
              "      padding: 0 0 0 0;\n",
              "      width: 32px;\n",
              "    }\n",
              "\n",
              "    .colab-df-convert:hover {\n",
              "      background-color: #E2EBFA;\n",
              "      box-shadow: 0px 1px 2px rgba(60, 64, 67, 0.3), 0px 1px 3px 1px rgba(60, 64, 67, 0.15);\n",
              "      fill: #174EA6;\n",
              "    }\n",
              "\n",
              "    [theme=dark] .colab-df-convert {\n",
              "      background-color: #3B4455;\n",
              "      fill: #D2E3FC;\n",
              "    }\n",
              "\n",
              "    [theme=dark] .colab-df-convert:hover {\n",
              "      background-color: #434B5C;\n",
              "      box-shadow: 0px 1px 3px 1px rgba(0, 0, 0, 0.15);\n",
              "      filter: drop-shadow(0px 1px 2px rgba(0, 0, 0, 0.3));\n",
              "      fill: #FFFFFF;\n",
              "    }\n",
              "  </style>\n",
              "\n",
              "      <script>\n",
              "        const buttonEl =\n",
              "          document.querySelector('#df-705b59a3-6138-496a-bc2c-c90c008c761c button.colab-df-convert');\n",
              "        buttonEl.style.display =\n",
              "          google.colab.kernel.accessAllowed ? 'block' : 'none';\n",
              "\n",
              "        async function convertToInteractive(key) {\n",
              "          const element = document.querySelector('#df-705b59a3-6138-496a-bc2c-c90c008c761c');\n",
              "          const dataTable =\n",
              "            await google.colab.kernel.invokeFunction('convertToInteractive',\n",
              "                                                     [key], {});\n",
              "          if (!dataTable) return;\n",
              "\n",
              "          const docLinkHtml = 'Like what you see? Visit the ' +\n",
              "            '<a target=\"_blank\" href=https://colab.research.google.com/notebooks/data_table.ipynb>data table notebook</a>'\n",
              "            + ' to learn more about interactive tables.';\n",
              "          element.innerHTML = '';\n",
              "          dataTable['output_type'] = 'display_data';\n",
              "          await google.colab.output.renderOutput(dataTable, element);\n",
              "          const docLink = document.createElement('div');\n",
              "          docLink.innerHTML = docLinkHtml;\n",
              "          element.appendChild(docLink);\n",
              "        }\n",
              "      </script>\n",
              "    </div>\n",
              "  </div>\n",
              "  "
            ]
          },
          "metadata": {},
          "execution_count": 14
        }
      ]
    },
    {
      "cell_type": "markdown",
      "source": [
        "Note we returned the same number of genes as the tool calculation at: 41942.\n",
        "\n",
        "Our count matched the tool for of 38790/41942 genes, an accuracy of 92.5%.\n",
        "\n"
      ],
      "metadata": {
        "id": "WfINLU1I-8P8"
      }
    },
    {
      "cell_type": "code",
      "source": [
        "# Read tool calculated values to compare\n",
        "control = pd.read_csv(\"/content/final_project/countfile.txt\", sep = '\\t', header = None)\n",
        "# Add our custom counts to the dataframe\n",
        "control['Calculated'] = df.Count.values.tolist()\n",
        "# Find the difference between our gene counts and theirs\n",
        "control['Score_diff'] = control['Calculated'] - control[1]\n",
        "# Filter the dataframe so only genes that differ in count are showing\n",
        "control = control[control['Score_diff'] != 0]\n",
        "control"
      ],
      "metadata": {
        "id": "7yWRbRkGqQ4G",
        "outputId": "bd2548e3-3fe8-4f13-aa69-4c4ba0395a5d",
        "colab": {
          "base_uri": "https://localhost:8080/",
          "height": 424
        }
      },
      "execution_count": 15,
      "outputs": [
        {
          "output_type": "execute_result",
          "data": {
            "text/plain": [
              "                   0    1  Calculated  Score_diff\n",
              "5      GRMZM5G801074   28           0         -28\n",
              "10     GRMZM5G804708   74          45         -29\n",
              "22     GRMZM5G813608  179         160         -19\n",
              "27     GRMZM5G815606    8          12           4\n",
              "41     GRMZM5G825253    1           0          -1\n",
              "...              ...  ...         ...         ...\n",
              "41909    zma-MIR395l    0           1           1\n",
              "41919    zma-MIR396f    0           3           3\n",
              "41925    zma-MIR398b  135         139           4\n",
              "41936    zma-MIR408b  190         191           1\n",
              "41941     zma-MIR827  200           0        -200\n",
              "\n",
              "[3152 rows x 4 columns]"
            ],
            "text/html": [
              "\n",
              "  <div id=\"df-a04b0b54-a6c8-4523-a67d-0d9255a21af5\">\n",
              "    <div class=\"colab-df-container\">\n",
              "      <div>\n",
              "<style scoped>\n",
              "    .dataframe tbody tr th:only-of-type {\n",
              "        vertical-align: middle;\n",
              "    }\n",
              "\n",
              "    .dataframe tbody tr th {\n",
              "        vertical-align: top;\n",
              "    }\n",
              "\n",
              "    .dataframe thead th {\n",
              "        text-align: right;\n",
              "    }\n",
              "</style>\n",
              "<table border=\"1\" class=\"dataframe\">\n",
              "  <thead>\n",
              "    <tr style=\"text-align: right;\">\n",
              "      <th></th>\n",
              "      <th>0</th>\n",
              "      <th>1</th>\n",
              "      <th>Calculated</th>\n",
              "      <th>Score_diff</th>\n",
              "    </tr>\n",
              "  </thead>\n",
              "  <tbody>\n",
              "    <tr>\n",
              "      <th>5</th>\n",
              "      <td>GRMZM5G801074</td>\n",
              "      <td>28</td>\n",
              "      <td>0</td>\n",
              "      <td>-28</td>\n",
              "    </tr>\n",
              "    <tr>\n",
              "      <th>10</th>\n",
              "      <td>GRMZM5G804708</td>\n",
              "      <td>74</td>\n",
              "      <td>45</td>\n",
              "      <td>-29</td>\n",
              "    </tr>\n",
              "    <tr>\n",
              "      <th>22</th>\n",
              "      <td>GRMZM5G813608</td>\n",
              "      <td>179</td>\n",
              "      <td>160</td>\n",
              "      <td>-19</td>\n",
              "    </tr>\n",
              "    <tr>\n",
              "      <th>27</th>\n",
              "      <td>GRMZM5G815606</td>\n",
              "      <td>8</td>\n",
              "      <td>12</td>\n",
              "      <td>4</td>\n",
              "    </tr>\n",
              "    <tr>\n",
              "      <th>41</th>\n",
              "      <td>GRMZM5G825253</td>\n",
              "      <td>1</td>\n",
              "      <td>0</td>\n",
              "      <td>-1</td>\n",
              "    </tr>\n",
              "    <tr>\n",
              "      <th>...</th>\n",
              "      <td>...</td>\n",
              "      <td>...</td>\n",
              "      <td>...</td>\n",
              "      <td>...</td>\n",
              "    </tr>\n",
              "    <tr>\n",
              "      <th>41909</th>\n",
              "      <td>zma-MIR395l</td>\n",
              "      <td>0</td>\n",
              "      <td>1</td>\n",
              "      <td>1</td>\n",
              "    </tr>\n",
              "    <tr>\n",
              "      <th>41919</th>\n",
              "      <td>zma-MIR396f</td>\n",
              "      <td>0</td>\n",
              "      <td>3</td>\n",
              "      <td>3</td>\n",
              "    </tr>\n",
              "    <tr>\n",
              "      <th>41925</th>\n",
              "      <td>zma-MIR398b</td>\n",
              "      <td>135</td>\n",
              "      <td>139</td>\n",
              "      <td>4</td>\n",
              "    </tr>\n",
              "    <tr>\n",
              "      <th>41936</th>\n",
              "      <td>zma-MIR408b</td>\n",
              "      <td>190</td>\n",
              "      <td>191</td>\n",
              "      <td>1</td>\n",
              "    </tr>\n",
              "    <tr>\n",
              "      <th>41941</th>\n",
              "      <td>zma-MIR827</td>\n",
              "      <td>200</td>\n",
              "      <td>0</td>\n",
              "      <td>-200</td>\n",
              "    </tr>\n",
              "  </tbody>\n",
              "</table>\n",
              "<p>3152 rows × 4 columns</p>\n",
              "</div>\n",
              "      <button class=\"colab-df-convert\" onclick=\"convertToInteractive('df-a04b0b54-a6c8-4523-a67d-0d9255a21af5')\"\n",
              "              title=\"Convert this dataframe to an interactive table.\"\n",
              "              style=\"display:none;\">\n",
              "        \n",
              "  <svg xmlns=\"http://www.w3.org/2000/svg\" height=\"24px\"viewBox=\"0 0 24 24\"\n",
              "       width=\"24px\">\n",
              "    <path d=\"M0 0h24v24H0V0z\" fill=\"none\"/>\n",
              "    <path d=\"M18.56 5.44l.94 2.06.94-2.06 2.06-.94-2.06-.94-.94-2.06-.94 2.06-2.06.94zm-11 1L8.5 8.5l.94-2.06 2.06-.94-2.06-.94L8.5 2.5l-.94 2.06-2.06.94zm10 10l.94 2.06.94-2.06 2.06-.94-2.06-.94-.94-2.06-.94 2.06-2.06.94z\"/><path d=\"M17.41 7.96l-1.37-1.37c-.4-.4-.92-.59-1.43-.59-.52 0-1.04.2-1.43.59L10.3 9.45l-7.72 7.72c-.78.78-.78 2.05 0 2.83L4 21.41c.39.39.9.59 1.41.59.51 0 1.02-.2 1.41-.59l7.78-7.78 2.81-2.81c.8-.78.8-2.07 0-2.86zM5.41 20L4 18.59l7.72-7.72 1.47 1.35L5.41 20z\"/>\n",
              "  </svg>\n",
              "      </button>\n",
              "      \n",
              "  <style>\n",
              "    .colab-df-container {\n",
              "      display:flex;\n",
              "      flex-wrap:wrap;\n",
              "      gap: 12px;\n",
              "    }\n",
              "\n",
              "    .colab-df-convert {\n",
              "      background-color: #E8F0FE;\n",
              "      border: none;\n",
              "      border-radius: 50%;\n",
              "      cursor: pointer;\n",
              "      display: none;\n",
              "      fill: #1967D2;\n",
              "      height: 32px;\n",
              "      padding: 0 0 0 0;\n",
              "      width: 32px;\n",
              "    }\n",
              "\n",
              "    .colab-df-convert:hover {\n",
              "      background-color: #E2EBFA;\n",
              "      box-shadow: 0px 1px 2px rgba(60, 64, 67, 0.3), 0px 1px 3px 1px rgba(60, 64, 67, 0.15);\n",
              "      fill: #174EA6;\n",
              "    }\n",
              "\n",
              "    [theme=dark] .colab-df-convert {\n",
              "      background-color: #3B4455;\n",
              "      fill: #D2E3FC;\n",
              "    }\n",
              "\n",
              "    [theme=dark] .colab-df-convert:hover {\n",
              "      background-color: #434B5C;\n",
              "      box-shadow: 0px 1px 3px 1px rgba(0, 0, 0, 0.15);\n",
              "      filter: drop-shadow(0px 1px 2px rgba(0, 0, 0, 0.3));\n",
              "      fill: #FFFFFF;\n",
              "    }\n",
              "  </style>\n",
              "\n",
              "      <script>\n",
              "        const buttonEl =\n",
              "          document.querySelector('#df-a04b0b54-a6c8-4523-a67d-0d9255a21af5 button.colab-df-convert');\n",
              "        buttonEl.style.display =\n",
              "          google.colab.kernel.accessAllowed ? 'block' : 'none';\n",
              "\n",
              "        async function convertToInteractive(key) {\n",
              "          const element = document.querySelector('#df-a04b0b54-a6c8-4523-a67d-0d9255a21af5');\n",
              "          const dataTable =\n",
              "            await google.colab.kernel.invokeFunction('convertToInteractive',\n",
              "                                                     [key], {});\n",
              "          if (!dataTable) return;\n",
              "\n",
              "          const docLinkHtml = 'Like what you see? Visit the ' +\n",
              "            '<a target=\"_blank\" href=https://colab.research.google.com/notebooks/data_table.ipynb>data table notebook</a>'\n",
              "            + ' to learn more about interactive tables.';\n",
              "          element.innerHTML = '';\n",
              "          dataTable['output_type'] = 'display_data';\n",
              "          await google.colab.output.renderOutput(dataTable, element);\n",
              "          const docLink = document.createElement('div');\n",
              "          docLink.innerHTML = docLinkHtml;\n",
              "          element.appendChild(docLink);\n",
              "        }\n",
              "      </script>\n",
              "    </div>\n",
              "  </div>\n",
              "  "
            ]
          },
          "metadata": {},
          "execution_count": 15
        }
      ]
    },
    {
      "cell_type": "markdown",
      "source": [
        "To see where we disagreed I pulled a gene with differing counts.\n",
        "\n",
        "Notice how our algorithm does not include it but the tool count does."
      ],
      "metadata": {
        "id": "X7CokJSD_MFZ"
      }
    },
    {
      "cell_type": "code",
      "source": [
        "x = np.where(genes['GeneID'] == 'GRMZM5G801074')\n",
        "new = genes.loc[x]\n",
        "new"
      ],
      "metadata": {
        "colab": {
          "base_uri": "https://localhost:8080/",
          "height": 81
        },
        "id": "ZedGBvhp-Vmp",
        "outputId": "198727f9-7b30-4ca2-f74d-d281fac716b7"
      },
      "execution_count": 16,
      "outputs": [
        {
          "output_type": "execute_result",
          "data": {
            "text/plain": [
              "               GeneID ChromosomeID  Exon  Loc_Start  Loc_End\n",
              "399580  GRMZM5G801074           Pt  exon      66998    67198"
            ],
            "text/html": [
              "\n",
              "  <div id=\"df-df5b6d13-1f90-4e53-b571-034f420a192d\">\n",
              "    <div class=\"colab-df-container\">\n",
              "      <div>\n",
              "<style scoped>\n",
              "    .dataframe tbody tr th:only-of-type {\n",
              "        vertical-align: middle;\n",
              "    }\n",
              "\n",
              "    .dataframe tbody tr th {\n",
              "        vertical-align: top;\n",
              "    }\n",
              "\n",
              "    .dataframe thead th {\n",
              "        text-align: right;\n",
              "    }\n",
              "</style>\n",
              "<table border=\"1\" class=\"dataframe\">\n",
              "  <thead>\n",
              "    <tr style=\"text-align: right;\">\n",
              "      <th></th>\n",
              "      <th>GeneID</th>\n",
              "      <th>ChromosomeID</th>\n",
              "      <th>Exon</th>\n",
              "      <th>Loc_Start</th>\n",
              "      <th>Loc_End</th>\n",
              "    </tr>\n",
              "  </thead>\n",
              "  <tbody>\n",
              "    <tr>\n",
              "      <th>399580</th>\n",
              "      <td>GRMZM5G801074</td>\n",
              "      <td>Pt</td>\n",
              "      <td>exon</td>\n",
              "      <td>66998</td>\n",
              "      <td>67198</td>\n",
              "    </tr>\n",
              "  </tbody>\n",
              "</table>\n",
              "</div>\n",
              "      <button class=\"colab-df-convert\" onclick=\"convertToInteractive('df-df5b6d13-1f90-4e53-b571-034f420a192d')\"\n",
              "              title=\"Convert this dataframe to an interactive table.\"\n",
              "              style=\"display:none;\">\n",
              "        \n",
              "  <svg xmlns=\"http://www.w3.org/2000/svg\" height=\"24px\"viewBox=\"0 0 24 24\"\n",
              "       width=\"24px\">\n",
              "    <path d=\"M0 0h24v24H0V0z\" fill=\"none\"/>\n",
              "    <path d=\"M18.56 5.44l.94 2.06.94-2.06 2.06-.94-2.06-.94-.94-2.06-.94 2.06-2.06.94zm-11 1L8.5 8.5l.94-2.06 2.06-.94-2.06-.94L8.5 2.5l-.94 2.06-2.06.94zm10 10l.94 2.06.94-2.06 2.06-.94-2.06-.94-.94-2.06-.94 2.06-2.06.94z\"/><path d=\"M17.41 7.96l-1.37-1.37c-.4-.4-.92-.59-1.43-.59-.52 0-1.04.2-1.43.59L10.3 9.45l-7.72 7.72c-.78.78-.78 2.05 0 2.83L4 21.41c.39.39.9.59 1.41.59.51 0 1.02-.2 1.41-.59l7.78-7.78 2.81-2.81c.8-.78.8-2.07 0-2.86zM5.41 20L4 18.59l7.72-7.72 1.47 1.35L5.41 20z\"/>\n",
              "  </svg>\n",
              "      </button>\n",
              "      \n",
              "  <style>\n",
              "    .colab-df-container {\n",
              "      display:flex;\n",
              "      flex-wrap:wrap;\n",
              "      gap: 12px;\n",
              "    }\n",
              "\n",
              "    .colab-df-convert {\n",
              "      background-color: #E8F0FE;\n",
              "      border: none;\n",
              "      border-radius: 50%;\n",
              "      cursor: pointer;\n",
              "      display: none;\n",
              "      fill: #1967D2;\n",
              "      height: 32px;\n",
              "      padding: 0 0 0 0;\n",
              "      width: 32px;\n",
              "    }\n",
              "\n",
              "    .colab-df-convert:hover {\n",
              "      background-color: #E2EBFA;\n",
              "      box-shadow: 0px 1px 2px rgba(60, 64, 67, 0.3), 0px 1px 3px 1px rgba(60, 64, 67, 0.15);\n",
              "      fill: #174EA6;\n",
              "    }\n",
              "\n",
              "    [theme=dark] .colab-df-convert {\n",
              "      background-color: #3B4455;\n",
              "      fill: #D2E3FC;\n",
              "    }\n",
              "\n",
              "    [theme=dark] .colab-df-convert:hover {\n",
              "      background-color: #434B5C;\n",
              "      box-shadow: 0px 1px 3px 1px rgba(0, 0, 0, 0.15);\n",
              "      filter: drop-shadow(0px 1px 2px rgba(0, 0, 0, 0.3));\n",
              "      fill: #FFFFFF;\n",
              "    }\n",
              "  </style>\n",
              "\n",
              "      <script>\n",
              "        const buttonEl =\n",
              "          document.querySelector('#df-df5b6d13-1f90-4e53-b571-034f420a192d button.colab-df-convert');\n",
              "        buttonEl.style.display =\n",
              "          google.colab.kernel.accessAllowed ? 'block' : 'none';\n",
              "\n",
              "        async function convertToInteractive(key) {\n",
              "          const element = document.querySelector('#df-df5b6d13-1f90-4e53-b571-034f420a192d');\n",
              "          const dataTable =\n",
              "            await google.colab.kernel.invokeFunction('convertToInteractive',\n",
              "                                                     [key], {});\n",
              "          if (!dataTable) return;\n",
              "\n",
              "          const docLinkHtml = 'Like what you see? Visit the ' +\n",
              "            '<a target=\"_blank\" href=https://colab.research.google.com/notebooks/data_table.ipynb>data table notebook</a>'\n",
              "            + ' to learn more about interactive tables.';\n",
              "          element.innerHTML = '';\n",
              "          dataTable['output_type'] = 'display_data';\n",
              "          await google.colab.output.renderOutput(dataTable, element);\n",
              "          const docLink = document.createElement('div');\n",
              "          docLink.innerHTML = docLinkHtml;\n",
              "          element.appendChild(docLink);\n",
              "        }\n",
              "      </script>\n",
              "    </div>\n",
              "  </div>\n",
              "  "
            ]
          },
          "metadata": {},
          "execution_count": 16
        }
      ]
    },
    {
      "cell_type": "markdown",
      "source": [
        "When we check if any reads in the mapping lines fufills this gene, we get no results. This supports the accuracy of our algorithm over the tool. I believe a difference in parameters or chromosome read regions causes this. Notice our reads did not cover all the chromosomes included in the gene file."
      ],
      "metadata": {
        "id": "bHS1HHkex_l1"
      }
    },
    {
      "cell_type": "code",
      "source": [
        "y = np.where((mapping_lines['Start_position']>=66998) & mapping_lines['ChromosomeID'] == 'Pt')\n",
        "mapping_lines.loc[y]"
      ],
      "metadata": {
        "colab": {
          "base_uri": "https://localhost:8080/",
          "height": 50
        },
        "id": "CTnRx-HC-bzW",
        "outputId": "f4efeff8-39de-40a1-8a97-af7f05340857"
      },
      "execution_count": 17,
      "outputs": [
        {
          "output_type": "execute_result",
          "data": {
            "text/plain": [
              "Empty DataFrame\n",
              "Columns: [Read_Name, ChromosomeID, Start_position]\n",
              "Index: []"
            ],
            "text/html": [
              "\n",
              "  <div id=\"df-16c35163-b420-45a8-90b1-6eac692cb24a\">\n",
              "    <div class=\"colab-df-container\">\n",
              "      <div>\n",
              "<style scoped>\n",
              "    .dataframe tbody tr th:only-of-type {\n",
              "        vertical-align: middle;\n",
              "    }\n",
              "\n",
              "    .dataframe tbody tr th {\n",
              "        vertical-align: top;\n",
              "    }\n",
              "\n",
              "    .dataframe thead th {\n",
              "        text-align: right;\n",
              "    }\n",
              "</style>\n",
              "<table border=\"1\" class=\"dataframe\">\n",
              "  <thead>\n",
              "    <tr style=\"text-align: right;\">\n",
              "      <th></th>\n",
              "      <th>Read_Name</th>\n",
              "      <th>ChromosomeID</th>\n",
              "      <th>Start_position</th>\n",
              "    </tr>\n",
              "  </thead>\n",
              "  <tbody>\n",
              "  </tbody>\n",
              "</table>\n",
              "</div>\n",
              "      <button class=\"colab-df-convert\" onclick=\"convertToInteractive('df-16c35163-b420-45a8-90b1-6eac692cb24a')\"\n",
              "              title=\"Convert this dataframe to an interactive table.\"\n",
              "              style=\"display:none;\">\n",
              "        \n",
              "  <svg xmlns=\"http://www.w3.org/2000/svg\" height=\"24px\"viewBox=\"0 0 24 24\"\n",
              "       width=\"24px\">\n",
              "    <path d=\"M0 0h24v24H0V0z\" fill=\"none\"/>\n",
              "    <path d=\"M18.56 5.44l.94 2.06.94-2.06 2.06-.94-2.06-.94-.94-2.06-.94 2.06-2.06.94zm-11 1L8.5 8.5l.94-2.06 2.06-.94-2.06-.94L8.5 2.5l-.94 2.06-2.06.94zm10 10l.94 2.06.94-2.06 2.06-.94-2.06-.94-.94-2.06-.94 2.06-2.06.94z\"/><path d=\"M17.41 7.96l-1.37-1.37c-.4-.4-.92-.59-1.43-.59-.52 0-1.04.2-1.43.59L10.3 9.45l-7.72 7.72c-.78.78-.78 2.05 0 2.83L4 21.41c.39.39.9.59 1.41.59.51 0 1.02-.2 1.41-.59l7.78-7.78 2.81-2.81c.8-.78.8-2.07 0-2.86zM5.41 20L4 18.59l7.72-7.72 1.47 1.35L5.41 20z\"/>\n",
              "  </svg>\n",
              "      </button>\n",
              "      \n",
              "  <style>\n",
              "    .colab-df-container {\n",
              "      display:flex;\n",
              "      flex-wrap:wrap;\n",
              "      gap: 12px;\n",
              "    }\n",
              "\n",
              "    .colab-df-convert {\n",
              "      background-color: #E8F0FE;\n",
              "      border: none;\n",
              "      border-radius: 50%;\n",
              "      cursor: pointer;\n",
              "      display: none;\n",
              "      fill: #1967D2;\n",
              "      height: 32px;\n",
              "      padding: 0 0 0 0;\n",
              "      width: 32px;\n",
              "    }\n",
              "\n",
              "    .colab-df-convert:hover {\n",
              "      background-color: #E2EBFA;\n",
              "      box-shadow: 0px 1px 2px rgba(60, 64, 67, 0.3), 0px 1px 3px 1px rgba(60, 64, 67, 0.15);\n",
              "      fill: #174EA6;\n",
              "    }\n",
              "\n",
              "    [theme=dark] .colab-df-convert {\n",
              "      background-color: #3B4455;\n",
              "      fill: #D2E3FC;\n",
              "    }\n",
              "\n",
              "    [theme=dark] .colab-df-convert:hover {\n",
              "      background-color: #434B5C;\n",
              "      box-shadow: 0px 1px 3px 1px rgba(0, 0, 0, 0.15);\n",
              "      filter: drop-shadow(0px 1px 2px rgba(0, 0, 0, 0.3));\n",
              "      fill: #FFFFFF;\n",
              "    }\n",
              "  </style>\n",
              "\n",
              "      <script>\n",
              "        const buttonEl =\n",
              "          document.querySelector('#df-16c35163-b420-45a8-90b1-6eac692cb24a button.colab-df-convert');\n",
              "        buttonEl.style.display =\n",
              "          google.colab.kernel.accessAllowed ? 'block' : 'none';\n",
              "\n",
              "        async function convertToInteractive(key) {\n",
              "          const element = document.querySelector('#df-16c35163-b420-45a8-90b1-6eac692cb24a');\n",
              "          const dataTable =\n",
              "            await google.colab.kernel.invokeFunction('convertToInteractive',\n",
              "                                                     [key], {});\n",
              "          if (!dataTable) return;\n",
              "\n",
              "          const docLinkHtml = 'Like what you see? Visit the ' +\n",
              "            '<a target=\"_blank\" href=https://colab.research.google.com/notebooks/data_table.ipynb>data table notebook</a>'\n",
              "            + ' to learn more about interactive tables.';\n",
              "          element.innerHTML = '';\n",
              "          dataTable['output_type'] = 'display_data';\n",
              "          await google.colab.output.renderOutput(dataTable, element);\n",
              "          const docLink = document.createElement('div');\n",
              "          docLink.innerHTML = docLinkHtml;\n",
              "          element.appendChild(docLink);\n",
              "        }\n",
              "      </script>\n",
              "    </div>\n",
              "  </div>\n",
              "  "
            ]
          },
          "metadata": {},
          "execution_count": 17
        }
      ]
    },
    {
      "cell_type": "markdown",
      "source": [
        "**EVERYTHING BELOW THIS IS EFFICIENCY TESTING**"
      ],
      "metadata": {
        "id": "-qETbB_XysQV"
      }
    },
    {
      "cell_type": "code",
      "source": [
        "%%timeit\n",
        "array = new.iloc[:,4].values\n",
        "index_start = endSearch(array, start, 0, len(array)-1)\n",
        "array = new.iloc[:,3].values\n",
        "index_end = startSearch(array, end, 0, len(array)-1)\n",
        "gene_list = set(new.reset_index().loc[index_start:index_end].GeneID)\n",
        "gene_list"
      ],
      "metadata": {
        "colab": {
          "base_uri": "https://localhost:8080/"
        },
        "id": "cc15IkUfoh4X",
        "outputId": "21bb0928-ee45-411a-dc01-0fe9cb60d0e4"
      },
      "execution_count": 18,
      "outputs": [
        {
          "output_type": "stream",
          "name": "stdout",
          "text": [
            "796 µs ± 10 µs per loop (mean ± std. dev. of 7 runs, 1000 loops each)\n"
          ]
        }
      ]
    },
    {
      "cell_type": "code",
      "source": [
        "array = new.iloc[:,3].values\n",
        "startSearch(array, end, 0, len(array)-1)"
      ],
      "metadata": {
        "colab": {
          "base_uri": "https://localhost:8080/"
        },
        "id": "HuEKswD1yxci",
        "outputId": "27817fc1-be6e-4219-d6f0-9a8fe3d32cde"
      },
      "execution_count": 19,
      "outputs": [
        {
          "output_type": "execute_result",
          "data": {
            "text/plain": [
              "0"
            ]
          },
          "metadata": {},
          "execution_count": 19
        }
      ]
    },
    {
      "cell_type": "code",
      "source": [
        "%%timeit\n",
        "y = np.where((new['Loc_End']>=start) & (new['Loc_Start']<= end))\n",
        "gene_list = set(new.reset_index().loc[y].GeneID)\n",
        "gene_list"
      ],
      "metadata": {
        "colab": {
          "base_uri": "https://localhost:8080/"
        },
        "id": "l_eod__6zIe1",
        "outputId": "816cd94c-6030-4daf-fc7b-30f7a18162b6"
      },
      "execution_count": 20,
      "outputs": [
        {
          "output_type": "stream",
          "name": "stdout",
          "text": [
            "1.38 ms ± 26 µs per loop (mean ± std. dev. of 7 runs, 1000 loops each)\n"
          ]
        }
      ]
    },
    {
      "cell_type": "code",
      "source": [
        "array = new.iloc[:,4].values\n",
        "endSearch(array, start, 0, len(array)-1)"
      ],
      "metadata": {
        "colab": {
          "base_uri": "https://localhost:8080/"
        },
        "id": "RnvHR5qpvSIc",
        "outputId": "7143a076-6914-44f9-af45-98f593ab89e7"
      },
      "execution_count": 21,
      "outputs": [
        {
          "output_type": "execute_result",
          "data": {
            "text/plain": [
              "-1"
            ]
          },
          "metadata": {},
          "execution_count": 21
        }
      ]
    },
    {
      "cell_type": "code",
      "source": [
        "%%time\n",
        "work = copy.deepcopy(genes)\n",
        "df_searchable = work.set_index('ChromosomeID')\n",
        "count_dict = {}\n",
        "read_dict = mapping_lines.to_dict('records')\n",
        "\n",
        "for i in range(len(read_dict)):\n",
        "    if (i == 50): break\n",
        "    #if (i%5000 == 0) : print('Iteration', i)\n",
        "    temp = read_dict[i]\n",
        "\n",
        "    read_name = temp['Read_Name']\n",
        "    index = read_names.index(read_name)\n",
        "    length = read_len[index]\n",
        "    chrom = temp['ChromosomeID']\n",
        "    start = temp['Start_position']\n",
        "    end = start + length\n",
        "    \n",
        "\n",
        "    filtered_work = work[work['ChromosomeID'] == chrom] \n",
        "    filtered_work = filtered_work[filtered_work['Loc_End'] > start]\n",
        "    filtered_work = filtered_work[filtered_work['Loc_Start'] < end]\n",
        "    gene_list = filtered_work.GeneID.unique().tolist()\n",
        "    print(gene_list)\n",
        "\n",
        "    if (len(gene_list) == 1):\n",
        "      gene_id = gene_list[0]\n",
        "      if (gene_id in count_dict):\n",
        "        count_dict[gene_id] += 1\n",
        "      else:\n",
        "        count_dict.setdefault(gene_id, 1)"
      ],
      "metadata": {
        "colab": {
          "base_uri": "https://localhost:8080/"
        },
        "id": "t55DJPMxNEjH",
        "outputId": "9ac35c59-8fdf-439d-abfe-58b0ef3cd72f"
      },
      "execution_count": 22,
      "outputs": [
        {
          "output_type": "stream",
          "name": "stdout",
          "text": [
            "[]\n",
            "[]\n",
            "['Zm00001d027230']\n",
            "[]\n",
            "[]\n",
            "[]\n",
            "[]\n",
            "[]\n",
            "[]\n",
            "['Zm00001d027234']\n",
            "[]\n",
            "[]\n",
            "[]\n",
            "[]\n",
            "[]\n",
            "[]\n",
            "[]\n",
            "[]\n",
            "[]\n",
            "['Zm00001d027254']\n",
            "[]\n",
            "[]\n",
            "[]\n",
            "[]\n",
            "[]\n",
            "['Zm00001d027266']\n",
            "['Zm00001d027266']\n",
            "[]\n",
            "[]\n",
            "[]\n",
            "[]\n",
            "[]\n",
            "[]\n",
            "[]\n",
            "[]\n",
            "[]\n",
            "[]\n",
            "[]\n",
            "[]\n",
            "[]\n",
            "[]\n",
            "[]\n",
            "[]\n",
            "['Zm00001d027276']\n",
            "[]\n",
            "[]\n",
            "[]\n",
            "[]\n",
            "[]\n",
            "[]\n",
            "CPU times: user 2.5 s, sys: 45.1 ms, total: 2.55 s\n",
            "Wall time: 2.55 s\n"
          ]
        }
      ]
    },
    {
      "cell_type": "code",
      "source": [
        "%%timeit\n",
        "filtered_work = df_searchable[df_searchable.index == chrom]\n",
        "filtered_work = filtered_work[filtered_work['Loc_End'] > start]\n",
        "filtered_work = filtered_work[filtered_work['Loc_Start'] < end]\n",
        "filtered_work"
      ],
      "metadata": {
        "colab": {
          "base_uri": "https://localhost:8080/"
        },
        "id": "kJC0KEMXaaw2",
        "outputId": "766f4099-1597-4f7f-ae41-b556d57fe009"
      },
      "execution_count": 23,
      "outputs": [
        {
          "output_type": "stream",
          "name": "stdout",
          "text": [
            "37.5 ms ± 602 µs per loop (mean ± std. dev. of 7 runs, 10 loops each)\n"
          ]
        }
      ]
    },
    {
      "cell_type": "code",
      "source": [
        "%%timeit\n",
        "x = np.where((work['ChromosomeID']==chrom))\n",
        "new = work.loc[x]\n",
        "y = np.where((new['Loc_End']>=start) & (new['Loc_Start']< end))\n",
        "new.loc[y]"
      ],
      "metadata": {
        "colab": {
          "base_uri": "https://localhost:8080/"
        },
        "id": "c2nmemiQchnB",
        "outputId": "6ea7486b-e1b3-4a6f-9da2-04d6d0ad57cf"
      },
      "execution_count": 24,
      "outputs": [
        {
          "output_type": "stream",
          "name": "stdout",
          "text": [
            "38.6 ms ± 770 µs per loop (mean ± std. dev. of 7 runs, 10 loops each)\n"
          ]
        }
      ]
    },
    {
      "cell_type": "code",
      "source": [
        "%%timeit\n",
        "gene_list = new.loc[y].GeneID.unique().tolist()\n",
        "if (len(gene_list) == 1):\n",
        "  counted_gene.append(gene_list[0])"
      ],
      "metadata": {
        "colab": {
          "base_uri": "https://localhost:8080/"
        },
        "id": "I6ALFmwVdI2j",
        "outputId": "11275e59-d775-4be8-cdc5-c84adc6bb6df"
      },
      "execution_count": 25,
      "outputs": [
        {
          "output_type": "stream",
          "name": "stdout",
          "text": [
            "401 µs ± 33.2 µs per loop (mean ± std. dev. of 7 runs, 1000 loops each)\n"
          ]
        }
      ]
    },
    {
      "cell_type": "code",
      "source": [
        "%%timeit\n",
        "gene_list = set(new.loc[y].GeneID)\n",
        "if (len(gene_list) == 1):\n",
        "  counted_gene.append(str(gene_list))"
      ],
      "metadata": {
        "colab": {
          "base_uri": "https://localhost:8080/"
        },
        "id": "jAwsDZNUdPWv",
        "outputId": "a41105d8-e402-48d8-ddd1-575e2f8eaf69"
      },
      "execution_count": 26,
      "outputs": [
        {
          "output_type": "stream",
          "name": "stdout",
          "text": [
            "316 µs ± 28.2 µs per loop (mean ± std. dev. of 7 runs, 1000 loops each)\n"
          ]
        }
      ]
    },
    {
      "cell_type": "code",
      "source": [
        "%%timeit\n",
        "x = np.where((work['Loc_End']>=start) & (work['Loc_Start']< end) & (work['ChromosomeID']==chrom))\n",
        "work.loc[x]"
      ],
      "metadata": {
        "colab": {
          "base_uri": "https://localhost:8080/"
        },
        "id": "nB5K5kdrac8y",
        "outputId": "6b873f9e-8091-415c-d1b1-c19fc61b0fbf"
      },
      "execution_count": 27,
      "outputs": [
        {
          "output_type": "stream",
          "name": "stdout",
          "text": [
            "32 ms ± 801 µs per loop (mean ± std. dev. of 7 runs, 10 loops each)\n"
          ]
        }
      ]
    },
    {
      "cell_type": "code",
      "source": [
        "%%timeit\n",
        "filtered_work = df_searchable[df_searchable.index == chrom]\n",
        "x = np.where((filtered_work['Loc_End']>=start) & (filtered_work['Loc_Start']< end))\n",
        "filtered_work.loc[x]"
      ],
      "metadata": {
        "colab": {
          "base_uri": "https://localhost:8080/"
        },
        "id": "Jdj0vu0BcDSL",
        "outputId": "ec2d2e43-f225-4f84-d3eb-928212b16bb2"
      },
      "execution_count": 28,
      "outputs": [
        {
          "output_type": "stream",
          "name": "stdout",
          "text": [
            "36.6 ms ± 747 µs per loop (mean ± std. dev. of 7 runs, 10 loops each)\n"
          ]
        }
      ]
    },
    {
      "cell_type": "code",
      "source": [
        "%%timeit\n",
        "filtered_work = work[work['ChromosomeID'] == chrom] \n",
        "filtered_work = filtered_work[filtered_work['Loc_End'] > start]\n",
        "filtered_work = filtered_work[filtered_work['Loc_Start'] < end]\n",
        "gene_list = filtered_work.GeneID.unique().tolist()"
      ],
      "metadata": {
        "colab": {
          "base_uri": "https://localhost:8080/"
        },
        "id": "T0p6UUsOxQ9j",
        "outputId": "e31a3a07-33da-4d6f-bdbf-44938baadecf"
      },
      "execution_count": 29,
      "outputs": [
        {
          "output_type": "stream",
          "name": "stdout",
          "text": [
            "38.3 ms ± 566 µs per loop (mean ± std. dev. of 7 runs, 10 loops each)\n"
          ]
        }
      ]
    },
    {
      "cell_type": "code",
      "source": [
        "%%timeit\n",
        "filtered_work = df_searchable[df_searchable.index == chrom]\n",
        "filtered_work = filtered_work[filtered_work['Loc_End'] > start]\n",
        "filtered_work = filtered_work[filtered_work['Loc_Start'] < end]\n",
        "gene_list = filtered_work.GeneID.unique().tolist()"
      ],
      "metadata": {
        "colab": {
          "base_uri": "https://localhost:8080/"
        },
        "id": "L2aGGaWjwAzj",
        "outputId": "7c7c02ea-dc0b-44bb-d306-bd8acad69d68"
      },
      "execution_count": 30,
      "outputs": [
        {
          "output_type": "stream",
          "name": "stdout",
          "text": [
            "37.9 ms ± 726 µs per loop (mean ± std. dev. of 7 runs, 10 loops each)\n"
          ]
        }
      ]
    },
    {
      "cell_type": "code",
      "source": [
        "%%time\n",
        "work = copy.deepcopy(genes)\n",
        "df_searchable = work.set_index('ChromosomeID')\n",
        "count_dict = {}\n",
        "read_dict = mapping_lines.to_dict('records')\n",
        "\n",
        "genes_list = genes.GeneID.tolist()\n",
        "chrom_list = genes.ChromosomeID.tolist()\n",
        "start_list = genes.Loc_Start.tolist()\n",
        "end_list = genes.Loc_End.tolist()\n",
        "\n",
        "counted_gene = []\n",
        "\n",
        "for i in range(len(read_dict)):\n",
        "    if (i%10000 == 0) : print('Iteration', i)\n",
        "    temp = read_dict[i]\n",
        "    break\n",
        "\n",
        "    read_name = temp['Read_Name']\n",
        "    index = read_names.index(read_name)\n",
        "    length = read_len[index]\n",
        "    chrom = temp['ChromosomeID']\n",
        "    start = temp['Start_position']\n",
        "    end = start + length\n",
        "\n",
        "    chrom_index = [a for a,v in enumerate(chrom_list) if v == chrom]\n",
        "    start_index = [a for a,v in enumerate(end_list) if v > start]    \n",
        "    end_index = [a for a,v in enumerate(start_list) if v < end]\n",
        "    matches = set(start_index) & set(end_index) & set(chrom_index)\n",
        "    res_list = set([genes_list[b] for b in matches])\n",
        "\n",
        "    if (len(res_list) == 1):\n",
        "      counted_gene.append([res_list][0])"
      ],
      "metadata": {
        "colab": {
          "base_uri": "https://localhost:8080/"
        },
        "id": "L4UwVmgFZ2AZ",
        "outputId": "6f53caed-20ac-418c-cece-e685389b4274"
      },
      "execution_count": 31,
      "outputs": [
        {
          "output_type": "stream",
          "name": "stdout",
          "text": [
            "Iteration 0\n",
            "CPU times: user 375 ms, sys: 54.1 ms, total: 429 ms\n",
            "Wall time: 429 ms\n"
          ]
        }
      ]
    },
    {
      "cell_type": "code",
      "source": [
        "%%timeit\n",
        "filtered_work = work[work['ChromosomeID'] == chrom] \n",
        "filtered_work = filtered_work[filtered_work['Loc_End'] > start]\n",
        "filtered_work = filtered_work[filtered_work['Loc_Start'] < end]\n",
        "filtered_work"
      ],
      "metadata": {
        "colab": {
          "base_uri": "https://localhost:8080/"
        },
        "id": "fhbZRKOwUXnu",
        "outputId": "72f7ef2c-68f1-43e8-9ab2-6b32e2a9f5f5"
      },
      "execution_count": 32,
      "outputs": [
        {
          "output_type": "stream",
          "name": "stdout",
          "text": [
            "38 ms ± 829 µs per loop (mean ± std. dev. of 7 runs, 10 loops each)\n"
          ]
        }
      ]
    },
    {
      "cell_type": "code",
      "source": [
        "%%timeit\n",
        "filtered_work = df_searchable[df_searchable.index == chrom]\n",
        "filtered_work = filtered_work[filtered_work['Loc_End'] > start]\n",
        "filtered_work = filtered_work[filtered_work['Loc_Start'] < end]\n",
        "filtered_work"
      ],
      "metadata": {
        "colab": {
          "base_uri": "https://localhost:8080/"
        },
        "id": "HcHmm1x_UIHg",
        "outputId": "ff945098-8590-48ff-ccd5-dd3c637955e8"
      },
      "execution_count": 33,
      "outputs": [
        {
          "output_type": "stream",
          "name": "stdout",
          "text": [
            "37.4 ms ± 1.19 ms per loop (mean ± std. dev. of 7 runs, 10 loops each)\n"
          ]
        }
      ]
    },
    {
      "cell_type": "code",
      "source": [
        "%%time\n",
        "work = copy.deepcopy(genes)\n",
        "df_searchable = work.set_index('ChromosomeID')\n",
        "count_dict = {}\n",
        "read_dict = mapping_lines.to_dict('records')\n",
        "counted_gene = []\n",
        "\n",
        "for i in range(len(read_dict)):\n",
        "    if (i%5000 == 0) : print('Iteration', i)\n",
        "    temp = read_dict[i]\n",
        "\n",
        "    read_name = temp['Read_Name']\n",
        "    index = read_names.index(read_name)\n",
        "    length = read_len[index]\n",
        "    chrom = temp['ChromosomeID']\n",
        "    start = temp['Start_position']\n",
        "    end = start + length\n",
        "    \n",
        "\n",
        "    filtered_work = df_searchable[df_searchable.index == chrom]\n",
        "    filtered_work = filtered_work[filtered_work['Loc_End'] > start]\n",
        "    filtered_work = filtered_work[filtered_work['Loc_Start'] < end]\n",
        "    gene_list = filtered_work.GeneID.unique().tolist()\n",
        "\n",
        "    if (len(gene_list) == 1):\n",
        "      break\n",
        "      counted_gene.append(gene_list[0])"
      ],
      "metadata": {
        "colab": {
          "base_uri": "https://localhost:8080/"
        },
        "id": "2WShF5mMc9zL",
        "outputId": "2da9e01f-413f-4020-ea97-a5fba2fa4652"
      },
      "execution_count": 34,
      "outputs": [
        {
          "output_type": "stream",
          "name": "stdout",
          "text": [
            "Iteration 0\n",
            "CPU times: user 494 ms, sys: 43 ms, total: 537 ms\n",
            "Wall time: 537 ms\n"
          ]
        }
      ]
    },
    {
      "cell_type": "code",
      "source": [],
      "metadata": {
        "id": "rDHNSv_WI_jD"
      },
      "execution_count": 34,
      "outputs": []
    }
  ]
}